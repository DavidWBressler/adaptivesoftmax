{
 "cells": [
  {
   "cell_type": "code",
   "execution_count": 1,
   "metadata": {},
   "outputs": [
    {
     "name": "stdout",
     "output_type": "stream",
     "text": [
      "/home/paperspace/fastai\n"
     ]
    }
   ],
   "source": [
    "cd /home/paperspace/fastai/"
   ]
  },
  {
   "cell_type": "code",
   "execution_count": 2,
   "metadata": {},
   "outputs": [],
   "source": [
    "from sklearn import model_selection\n",
    "import html\n",
    "import time\n",
    "from fastai.text import *\n",
    "#import matplotlib.pyplot as plt"
   ]
  },
  {
   "cell_type": "code",
   "execution_count": 3,
   "metadata": {},
   "outputs": [],
   "source": [
    "DATAPATH=Path('/home/paperspace/data/toxic/')\n",
    "PATH=Path('/home/paperspace/data/toxic_fromscratch/')\n",
    "LM_PATH=Path('/home/paperspace/data/toxic_lm/')"
   ]
  },
  {
   "cell_type": "markdown",
   "metadata": {},
   "source": [
    "# Preprocessing and tokenization"
   ]
  },
  {
   "cell_type": "code",
   "execution_count": 12,
   "metadata": {},
   "outputs": [],
   "source": [
    "#create dfs from the csvs\n",
    "trn_csv=pd.read_csv(DATAPATH/'train.csv')\n",
    "test_csv=pd.read_csv(DATAPATH/'test.csv')"
   ]
  },
  {
   "cell_type": "code",
   "execution_count": 29,
   "metadata": {},
   "outputs": [
    {
     "data": {
      "text/plain": [
       "((159571, 8), (153164, 2))"
      ]
     },
     "execution_count": 29,
     "metadata": {},
     "output_type": "execute_result"
    }
   ],
   "source": [
    "#160K training comments, 153K test comments\n",
    "(np.shape(trn_csv),np.shape(test_csv))"
   ]
  },
  {
   "cell_type": "code",
   "execution_count": 12,
   "metadata": {},
   "outputs": [
    {
     "data": {
      "text/html": [
       "<div>\n",
       "<style scoped>\n",
       "    .dataframe tbody tr th:only-of-type {\n",
       "        vertical-align: middle;\n",
       "    }\n",
       "\n",
       "    .dataframe tbody tr th {\n",
       "        vertical-align: top;\n",
       "    }\n",
       "\n",
       "    .dataframe thead th {\n",
       "        text-align: right;\n",
       "    }\n",
       "</style>\n",
       "<table border=\"1\" class=\"dataframe\">\n",
       "  <thead>\n",
       "    <tr style=\"text-align: right;\">\n",
       "      <th></th>\n",
       "      <th>id</th>\n",
       "      <th>comment_text</th>\n",
       "      <th>toxic</th>\n",
       "      <th>severe_toxic</th>\n",
       "      <th>obscene</th>\n",
       "      <th>threat</th>\n",
       "      <th>insult</th>\n",
       "      <th>identity_hate</th>\n",
       "    </tr>\n",
       "  </thead>\n",
       "  <tbody>\n",
       "    <tr>\n",
       "      <th>0</th>\n",
       "      <td>0000997932d777bf</td>\n",
       "      <td>Explanation\\nWhy the edits made under my usern...</td>\n",
       "      <td>0</td>\n",
       "      <td>0</td>\n",
       "      <td>0</td>\n",
       "      <td>0</td>\n",
       "      <td>0</td>\n",
       "      <td>0</td>\n",
       "    </tr>\n",
       "    <tr>\n",
       "      <th>1</th>\n",
       "      <td>000103f0d9cfb60f</td>\n",
       "      <td>D'aww! He matches this background colour I'm s...</td>\n",
       "      <td>0</td>\n",
       "      <td>0</td>\n",
       "      <td>0</td>\n",
       "      <td>0</td>\n",
       "      <td>0</td>\n",
       "      <td>0</td>\n",
       "    </tr>\n",
       "    <tr>\n",
       "      <th>2</th>\n",
       "      <td>000113f07ec002fd</td>\n",
       "      <td>Hey man, I'm really not trying to edit war. It...</td>\n",
       "      <td>0</td>\n",
       "      <td>0</td>\n",
       "      <td>0</td>\n",
       "      <td>0</td>\n",
       "      <td>0</td>\n",
       "      <td>0</td>\n",
       "    </tr>\n",
       "    <tr>\n",
       "      <th>3</th>\n",
       "      <td>0001b41b1c6bb37e</td>\n",
       "      <td>\"\\nMore\\nI can't make any real suggestions on ...</td>\n",
       "      <td>0</td>\n",
       "      <td>0</td>\n",
       "      <td>0</td>\n",
       "      <td>0</td>\n",
       "      <td>0</td>\n",
       "      <td>0</td>\n",
       "    </tr>\n",
       "    <tr>\n",
       "      <th>4</th>\n",
       "      <td>0001d958c54c6e35</td>\n",
       "      <td>You, sir, are my hero. Any chance you remember...</td>\n",
       "      <td>0</td>\n",
       "      <td>0</td>\n",
       "      <td>0</td>\n",
       "      <td>0</td>\n",
       "      <td>0</td>\n",
       "      <td>0</td>\n",
       "    </tr>\n",
       "  </tbody>\n",
       "</table>\n",
       "</div>"
      ],
      "text/plain": [
       "                 id                                       comment_text  toxic  \\\n",
       "0  0000997932d777bf  Explanation\\nWhy the edits made under my usern...      0   \n",
       "1  000103f0d9cfb60f  D'aww! He matches this background colour I'm s...      0   \n",
       "2  000113f07ec002fd  Hey man, I'm really not trying to edit war. It...      0   \n",
       "3  0001b41b1c6bb37e  \"\\nMore\\nI can't make any real suggestions on ...      0   \n",
       "4  0001d958c54c6e35  You, sir, are my hero. Any chance you remember...      0   \n",
       "\n",
       "   severe_toxic  obscene  threat  insult  identity_hate  \n",
       "0             0        0       0       0              0  \n",
       "1             0        0       0       0              0  \n",
       "2             0        0       0       0              0  \n",
       "3             0        0       0       0              0  \n",
       "4             0        0       0       0              0  "
      ]
     },
     "execution_count": 12,
     "metadata": {},
     "output_type": "execute_result"
    }
   ],
   "source": [
    "trn_csv.head()"
   ]
  },
  {
   "cell_type": "code",
   "execution_count": 13,
   "metadata": {},
   "outputs": [],
   "source": [
    "trn_texts=np.array(trn_csv['comment_text'])\n",
    "test_texts=np.array(test_csv['comment_text'])"
   ]
  },
  {
   "cell_type": "code",
   "execution_count": 18,
   "metadata": {},
   "outputs": [],
   "source": [
    "#for language model, might as well create our own train-test split\n",
    "trn_texts,val_texts = model_selection.train_test_split(\n",
    "    np.concatenate([trn_texts,test_texts]), test_size=0.1)"
   ]
  },
  {
   "cell_type": "code",
   "execution_count": 23,
   "metadata": {},
   "outputs": [
    {
     "data": {
      "text/plain": [
       "((281461,), (31274,))"
      ]
     },
     "execution_count": 23,
     "metadata": {},
     "output_type": "execute_result"
    }
   ],
   "source": [
    "(np.shape(trn_texts),np.shape(val_texts))"
   ]
  },
  {
   "cell_type": "code",
   "execution_count": 24,
   "metadata": {},
   "outputs": [
    {
     "data": {
      "text/plain": [
       "'\"\\nI agree.  I find that claim highly dubious. -\\'\\'\\'\\'\\'\\'The \\'45 \"'"
      ]
     },
     "execution_count": 24,
     "metadata": {},
     "output_type": "execute_result"
    }
   ],
   "source": [
    "trn_texts[0]"
   ]
  },
  {
   "cell_type": "code",
   "execution_count": 15,
   "metadata": {},
   "outputs": [],
   "source": [
    "re1 = re.compile(r'  +')\n",
    "\n",
    "def fixup(x):\n",
    "    x = x.replace('#39;', \"'\").replace('amp;', '&').replace('#146;', \"'\").replace(\n",
    "        'nbsp;', ' ').replace('#36;', '$').replace('\\\\n', \"\\n\").replace('quot;', \"'\").replace(\n",
    "        '<br />', \"\\n\").replace('\\\\\"', '\"').replace('<unk>','u_n').replace(' @.@ ','.').replace(\n",
    "        ' @-@ ','-').replace('\\\\', ' \\\\ ')\n",
    "    return re1.sub(' ', html.unescape(x))"
   ]
  },
  {
   "cell_type": "code",
   "execution_count": 16,
   "metadata": {},
   "outputs": [],
   "source": [
    "def get_texts(df, n_lbls=1):\n",
    "    labels = df.iloc[:,range(n_lbls)].values.astype(np.int64)\n",
    "    texts = f'\\n{BOS} {FLD} 1 ' + df[n_lbls].astype(str)\n",
    "    for i in range(n_lbls+1, len(df.columns)): texts += f' {FLD} {i-n_lbls} ' + df[i].astype(str)\n",
    "    texts = texts.apply(fixup).values.astype(str)\n",
    "\n",
    "    tok = Tokenizer().proc_all_mp(partition_by_cores(texts))\n",
    "    return tok, list(labels)"
   ]
  },
  {
   "cell_type": "code",
   "execution_count": 17,
   "metadata": {},
   "outputs": [],
   "source": [
    "def get_all(df, n_lbls):\n",
    "    tok, labels = [], []\n",
    "    for i, r in enumerate(df):#this is looping through chunks of size chunksize through the df\n",
    "        print(i)\n",
    "        tok_, labels_ = get_texts(r, n_lbls)#for each chunk, we get the tokens and the labels\n",
    "        tok += tok_;# then append the chunk's tokens and labels to a master list of tokens and labels\n",
    "        labels += labels_\n",
    "    return tok, labels"
   ]
  },
  {
   "cell_type": "code",
   "execution_count": 7,
   "metadata": {},
   "outputs": [],
   "source": [
    "chunksize=24000"
   ]
  },
  {
   "cell_type": "code",
   "execution_count": 8,
   "metadata": {},
   "outputs": [],
   "source": [
    "#using chunksize makes it so pandas returns an iterator (instead of a df), where we can iterate through chunks of a df.\n",
    "df_trn = pd.read_csv(LM_PATH/'train.csv', header=None, chunksize=chunksize)\n",
    "df_val = pd.read_csv(LM_PATH/'test.csv', header=None, chunksize=chunksize)"
   ]
  },
  {
   "cell_type": "code",
   "execution_count": 15,
   "metadata": {},
   "outputs": [
    {
     "name": "stdout",
     "output_type": "stream",
     "text": [
      "0\n",
      "1\n",
      "2\n",
      "3\n",
      "4\n",
      "5\n",
      "6\n",
      "7\n",
      "8\n",
      "9\n",
      "10\n",
      "11\n",
      "0\n",
      "1\n"
     ]
    }
   ],
   "source": [
    "BOS = 'xbos'  # beginning-of-sentence tag\n",
    "FLD = 'xfld'  # data field tag\n",
    "tok_trn, trn_labels = get_all(df_trn, 1)#tok_trn is a list of the texts. 1 is number of labels. Each item of the list is itself a list of the tokens for that text.\n",
    "tok_val, val_labels = get_all(df_val, 1)"
   ]
  },
  {
   "cell_type": "code",
   "execution_count": 16,
   "metadata": {},
   "outputs": [
    {
     "data": {
      "text/plain": [
       "((281461,), (281461, 1))"
      ]
     },
     "execution_count": 16,
     "metadata": {},
     "output_type": "execute_result"
    }
   ],
   "source": [
    "np.shape(tok_trn),np.shape(trn_labels)"
   ]
  },
  {
   "cell_type": "code",
   "execution_count": 17,
   "metadata": {},
   "outputs": [
    {
     "data": {
      "text/plain": [
       "['\\n',\n",
       " 'xbos',\n",
       " 'xfld',\n",
       " '1',\n",
       " 'david',\n",
       " 'hillier',\n",
       " '\\n\\n',\n",
       " 'was',\n",
       " 'david',\n",
       " 'hillier']"
      ]
     },
     "execution_count": 17,
     "metadata": {},
     "output_type": "execute_result"
    }
   ],
   "source": [
    "tok_trn[0][:10]"
   ]
  },
  {
   "cell_type": "code",
   "execution_count": 18,
   "metadata": {},
   "outputs": [
    {
     "data": {
      "text/plain": [
       "'\\n xbos xfld 1 david hillier \\n\\n was david hillier t_up really called up by fabio capello to the england squad tk_rep 5 ? tk_rep 5 !'"
      ]
     },
     "execution_count": 18,
     "metadata": {},
     "output_type": "execute_result"
    }
   ],
   "source": [
    "' '.join(tok_trn[0])"
   ]
  },
  {
   "cell_type": "code",
   "execution_count": 19,
   "metadata": {},
   "outputs": [],
   "source": [
    "#save the tokenizer\n",
    "np.save(PATH/'tmp'/'tok_trn.npy', tok_trn)\n",
    "np.save(PATH/'tmp'/'tok_val.npy', tok_val)\n",
    "tok_trn = np.load(PATH/'tmp'/'tok_trn.npy')\n",
    "tok_val = np.load(PATH/'tmp'/'tok_val.npy')"
   ]
  },
  {
   "cell_type": "code",
   "execution_count": 20,
   "metadata": {},
   "outputs": [
    {
     "data": {
      "text/plain": [
       "[('.', 863653),\n",
       " ('the', 826975),\n",
       " (',', 784683),\n",
       " ('\"', 668599),\n",
       " ('to', 485505),\n",
       " ('t_up', 409797),\n",
       " ('i', 388003),\n",
       " ('of', 368867),\n",
       " ('and', 368276),\n",
       " ('a', 367615),\n",
       " ('\\n', 359456),\n",
       " ('you', 351595),\n",
       " ('is', 308740),\n",
       " ('1', 289995),\n",
       " ('xbos', 281461),\n",
       " ('xfld', 281461),\n",
       " ('that', 267248),\n",
       " ('it', 249264),\n",
       " ('in', 242439),\n",
       " (':', 217626),\n",
       " ('=', 179106),\n",
       " ('for', 167023),\n",
       " ('this', 162817),\n",
       " ('-', 156535),\n",
       " ('not', 156517)]"
      ]
     },
     "execution_count": 20,
     "metadata": {},
     "output_type": "execute_result"
    }
   ],
   "source": [
    "#the comprehension says: for each text o in tok_trn, go through and return each token p. Then Counter creates a list of token-frequency tuples.\n",
    "freq = Counter(p for o in tok_trn for p in o)\n",
    "freq.most_common(25)"
   ]
  },
  {
   "cell_type": "code",
   "execution_count": 21,
   "metadata": {},
   "outputs": [],
   "source": [
    "max_vocab = 60000 #howard says having a vocab larger than 60K words doesn't even help more\n",
    "min_freq = 2"
   ]
  },
  {
   "cell_type": "code",
   "execution_count": 22,
   "metadata": {},
   "outputs": [],
   "source": [
    "#the comprehension says: sort the 60K most common tokens in the freq Counter, then return each token as long as freq>2 \n",
    "itos = [o for o,c in freq.most_common(max_vocab) if c>min_freq]\n",
    "itos.insert(0, '_pad_')#insert some special tokens at the top\n",
    "itos.insert(0, '_unk_')"
   ]
  },
  {
   "cell_type": "code",
   "execution_count": 23,
   "metadata": {},
   "outputs": [
    {
     "data": {
      "text/plain": [
       "60002"
      ]
     },
     "execution_count": 23,
     "metadata": {},
     "output_type": "execute_result"
    }
   ],
   "source": [
    "#the collections.defaultdict creates a dictionary that returns the default value of 0 for keys that it hasn't yet seen\n",
    "#for more info check out https://docs.python.org/2/library/collections.html\n",
    "stoi = collections.defaultdict(lambda:0, {v:k for k,v in enumerate(itos)})\n",
    "len(itos)"
   ]
  },
  {
   "cell_type": "code",
   "execution_count": 24,
   "metadata": {},
   "outputs": [
    {
     "data": {
      "text/plain": [
       "defaultdict(<function __main__.<lambda>>,\n",
       "            {'_unk_': 0,\n",
       "             '_pad_': 1,\n",
       "             '.': 2,\n",
       "             'the': 3,\n",
       "             ',': 4,\n",
       "             '\"': 5,\n",
       "             'to': 6,\n",
       "             't_up': 7,\n",
       "             'i': 8,\n",
       "             'of': 9,\n",
       "             'and': 10,\n",
       "             'a': 11,\n",
       "             '\\n': 12,\n",
       "             'you': 13,\n",
       "             'is': 14,\n",
       "             '1': 15,\n",
       "             'xbos': 16,\n",
       "             'xfld': 17,\n",
       "             'that': 18,\n",
       "             'it': 19,\n",
       "             'in': 20,\n",
       "             ':': 21,\n",
       "             '=': 22,\n",
       "             'for': 23,\n",
       "             'this': 24,\n",
       "             '-': 25,\n",
       "             'not': 26,\n",
       "             'on': 27,\n",
       "             ')': 28,\n",
       "             '\\n ': 29,\n",
       "             'be': 30,\n",
       "             '(': 31,\n",
       "             '\\n\\n ': 32,\n",
       "             'as': 33,\n",
       "             'are': 34,\n",
       "             'have': 35,\n",
       "             \"'s\": 36,\n",
       "             '?': 37,\n",
       "             '!': 38,\n",
       "             'do': 39,\n",
       "             '\\n\\n': 40,\n",
       "             'your': 41,\n",
       "             'with': 42,\n",
       "             \"n't\": 43,\n",
       "             'if': 44,\n",
       "             'article': 45,\n",
       "             'was': 46,\n",
       "             '/': 47,\n",
       "             'or': 48,\n",
       "             'but': 49,\n",
       "             'an': 50,\n",
       "             'wikipedia': 51,\n",
       "             'page': 52,\n",
       "             'my': 53,\n",
       "             'from': 54,\n",
       "             'by': 55,\n",
       "             'at': 56,\n",
       "             'can': 57,\n",
       "             'about': 58,\n",
       "             'so': 59,\n",
       "             'there': 60,\n",
       "             'what': 61,\n",
       "             'me': 62,\n",
       "             'all': 63,\n",
       "             'would': 64,\n",
       "             'has': 65,\n",
       "             'they': 66,\n",
       "             'tk_rep': 67,\n",
       "             'one': 68,\n",
       "             'he': 69,\n",
       "             'will': 70,\n",
       "             'no': 71,\n",
       "             'like': 72,\n",
       "             \"'\": 73,\n",
       "             'just': 74,\n",
       "             'talk': 75,\n",
       "             'please': 76,\n",
       "             'we': 77,\n",
       "             'should': 78,\n",
       "             'which': 79,\n",
       "             'any': 80,\n",
       "             'been': 81,\n",
       "             'more': 82,\n",
       "             'some': 83,\n",
       "             'who': 84,\n",
       "             'other': 85,\n",
       "             'here': 86,\n",
       "             ';': 87,\n",
       "             'see': 88,\n",
       "             '*': 89,\n",
       "             'think': 90,\n",
       "             'also': 91,\n",
       "             'did': 92,\n",
       "             'his': 93,\n",
       "             'does': 94,\n",
       "             'people': 95,\n",
       "             '...': 96,\n",
       "             'because': 97,\n",
       "             'up': 98,\n",
       "             'know': 99,\n",
       "             \"'m\": 100,\n",
       "             'how': 101,\n",
       "             'out': 102,\n",
       "             'only': 103,\n",
       "             'why': 104,\n",
       "             'edit': 105,\n",
       "             'when': 106,\n",
       "             'am': 107,\n",
       "             'use': 108,\n",
       "             'then': 109,\n",
       "             'articles': 110,\n",
       "             'were': 111,\n",
       "             'time': 112,\n",
       "             'may': 113,\n",
       "             'them': 114,\n",
       "             'fuck': 115,\n",
       "             '4': 116,\n",
       "             'now': 117,\n",
       "             'being': 118,\n",
       "             'their': 119,\n",
       "             'than': 120,\n",
       "             'get': 121,\n",
       "             'thanks': 122,\n",
       "             'even': 123,\n",
       "             'make': 124,\n",
       "             'could': 125,\n",
       "             'had': 126,\n",
       "             'good': 127,\n",
       "             \"'ve\": 128,\n",
       "             'well': 129,\n",
       "             '|': 130,\n",
       "             'very': 131,\n",
       "             'its': 132,\n",
       "             'information': 133,\n",
       "             'sources': 134,\n",
       "             'want': 135,\n",
       "             'name': 136,\n",
       "             'such': 137,\n",
       "             'way': 138,\n",
       "             'these': 139,\n",
       "             'wp': 140,\n",
       "             'user': 141,\n",
       "             'first': 142,\n",
       "             'new': 143,\n",
       "             'say': 144,\n",
       "             'section': 145,\n",
       "             'go': 146,\n",
       "             \"'re\": 147,\n",
       "             'source': 148,\n",
       "             'deletion': 149,\n",
       "             'help': 150,\n",
       "             'need': 151,\n",
       "             'image': 152,\n",
       "             'pages': 153,\n",
       "             'where': 154,\n",
       "             '#': 155,\n",
       "             'really': 156,\n",
       "             'editing': 157,\n",
       "             'much': 158,\n",
       "             'again': 159,\n",
       "             'many': 160,\n",
       "             ']': 161,\n",
       "             'made': 162,\n",
       "             'most': 163,\n",
       "             'used': 164,\n",
       "             'into': 165,\n",
       "             'find': 166,\n",
       "             'thank': 167,\n",
       "             'same': 168,\n",
       "             'discussion': 169,\n",
       "             'edits': 170,\n",
       "             'those': 171,\n",
       "             'since': 172,\n",
       "             'work': 173,\n",
       "             'point': 174,\n",
       "             'right': 175,\n",
       "             'look': 176,\n",
       "             'over': 177,\n",
       "             'deleted': 178,\n",
       "             'after': 179,\n",
       "             'two': 180,\n",
       "             'before': 181,\n",
       "             'add': 182,\n",
       "             'someone': 183,\n",
       "             'still': 184,\n",
       "             'him': 185,\n",
       "             'read': 186,\n",
       "             'too': 187,\n",
       "             \"'ll\": 188,\n",
       "             'take': 189,\n",
       "             'back': 190,\n",
       "             'list': 191,\n",
       "             'something': 192,\n",
       "             'going': 193,\n",
       "             'fact': 194,\n",
       "             'said': 195,\n",
       "             'link': 196,\n",
       "             'own': 197,\n",
       "             'she': 198,\n",
       "             'her': 199,\n",
       "             'stop': 200,\n",
       "             'content': 201,\n",
       "             'added': 202,\n",
       "             'our': 203,\n",
       "             'without': 204,\n",
       "             '5': 205,\n",
       "             'wiki': 206,\n",
       "             '[': 207,\n",
       "             '{': 208,\n",
       "             'under': 209,\n",
       "             'another': 210,\n",
       "             'http': 211,\n",
       "             'might': 212,\n",
       "             'history': 213,\n",
       "             'sure': 214,\n",
       "             'removed': 215,\n",
       "             'blocked': 216,\n",
       "             'ca': 217,\n",
       "             '6': 218,\n",
       "             'note': 219,\n",
       "             'us': 220,\n",
       "             'editors': 221,\n",
       "             'seems': 222,\n",
       "             'however': 223,\n",
       "             'free': 224,\n",
       "             'welcome': 225,\n",
       "             'case': 226,\n",
       "             'actually': 227,\n",
       "             'off': 228,\n",
       "             'better': 229,\n",
       "             'place': 230,\n",
       "             'never': 231,\n",
       "             'put': 232,\n",
       "             '}': 233,\n",
       "             'done': 234,\n",
       "             'let': 235,\n",
       "             'while': 236,\n",
       "             'comment': 237,\n",
       "             'using': 238,\n",
       "             'hi': 239,\n",
       "             'both': 240,\n",
       "             'person': 241,\n",
       "             'feel': 242,\n",
       "             'u': 243,\n",
       "             'anything': 244,\n",
       "             'question': 245,\n",
       "             'things': 246,\n",
       "             'utc': 247,\n",
       "             'best': 248,\n",
       "             'believe': 249,\n",
       "             'reason': 250,\n",
       "             'vandalism': 251,\n",
       "             'ask': 252,\n",
       "             'part': 253,\n",
       "             '2': 254,\n",
       "             'links': 255,\n",
       "             \"'d\": 256,\n",
       "             '—': 257,\n",
       "             'world': 258,\n",
       "             'hope': 259,\n",
       "             'thing': 260,\n",
       "             'subject': 261,\n",
       "             'policy': 262,\n",
       "             'block': 263,\n",
       "             'yourself': 264,\n",
       "             'little': 265,\n",
       "             'fucking': 266,\n",
       "             'comments': 267,\n",
       "             'change': 268,\n",
       "             'already': 269,\n",
       "             'though': 270,\n",
       "             'nt': 271,\n",
       "             'nothing': 272,\n",
       "             'personal': 273,\n",
       "             'must': 274,\n",
       "             'keep': 275,\n",
       "             'wrong': 276,\n",
       "             '•': 277,\n",
       "             'problem': 278,\n",
       "             'against': 279,\n",
       "             'long': 280,\n",
       "             'anyone': 281,\n",
       "             'english': 282,\n",
       "             'questions': 283,\n",
       "             'above': 284,\n",
       "             'remove': 285,\n",
       "             'few': 286,\n",
       "             'give': 287,\n",
       "             'text': 288,\n",
       "             'reliable': 289,\n",
       "             'agree': 290,\n",
       "             'last': 291,\n",
       "             'rather': 292,\n",
       "             'word': 293,\n",
       "             'trying': 294,\n",
       "             'years': 295,\n",
       "             'different': 296,\n",
       "             'copyright': 297,\n",
       "             'understand': 298,\n",
       "             'issue': 299,\n",
       "             'come': 300,\n",
       "             'got': 301,\n",
       "             'shit': 302,\n",
       "             'mean': 303,\n",
       "             'tag': 304,\n",
       "             'reference': 305,\n",
       "             'others': 306,\n",
       "             'editor': 307,\n",
       "             'says': 308,\n",
       "             'great': 309,\n",
       "             'non': 310,\n",
       "             'try': 311,\n",
       "             'making': 312,\n",
       "             'found': 313,\n",
       "             'probably': 314,\n",
       "             'sorry': 315,\n",
       "             'speedy': 316,\n",
       "             'gay': 317,\n",
       "             'references': 318,\n",
       "             'life': 319,\n",
       "             '%': 320,\n",
       "             'yes': 321,\n",
       "             'state': 322,\n",
       "             'doing': 323,\n",
       "             'original': 324,\n",
       "             'day': 325,\n",
       "             'either': 326,\n",
       "             'fair': 327,\n",
       "             'enough': 328,\n",
       "             'every': 329,\n",
       "             'continue': 330,\n",
       "             'else': 331,\n",
       "             'leave': 332,\n",
       "             'adding': 333,\n",
       "             'least': 334,\n",
       "             'show': 335,\n",
       "             'called': 336,\n",
       "             'stupid': 337,\n",
       "             'simply': 338,\n",
       "             'around': 339,\n",
       "             'ip': 340,\n",
       "             'far': 341,\n",
       "             'consensus': 342,\n",
       "             'example': 343,\n",
       "             '3': 344,\n",
       "             'down': 345,\n",
       "             'war': 346,\n",
       "             'etc': 347,\n",
       "             'hello': 348,\n",
       "             'real': 349,\n",
       "             'between': 350,\n",
       "             'check': 351,\n",
       "             'needs': 352,\n",
       "             'created': 353,\n",
       "             'through': 354,\n",
       "             'thought': 355,\n",
       "             'opinion': 356,\n",
       "             'top': 357,\n",
       "             'notable': 358,\n",
       "             'hate': 359,\n",
       "             'site': 360,\n",
       "             'ass': 361,\n",
       "             'given': 362,\n",
       "             'book': 363,\n",
       "             'old': 364,\n",
       "             'lot': 365,\n",
       "             're': 366,\n",
       "             'view': 367,\n",
       "             'request': 368,\n",
       "             'support': 369,\n",
       "             'yet': 370,\n",
       "             'post': 371,\n",
       "             'term': 372,\n",
       "             'images': 373,\n",
       "             'material': 374,\n",
       "             'ever': 375,\n",
       "             'suck': 376,\n",
       "             'write': 377,\n",
       "             'maybe': 378,\n",
       "             'matter': 379,\n",
       "             'saying': 380,\n",
       "             'having': 381,\n",
       "             'delete': 382,\n",
       "             'bad': 383,\n",
       "             'seem': 384,\n",
       "             'bit': 385,\n",
       "             'language': 386,\n",
       "             'tell': 387,\n",
       "             'correct': 388,\n",
       "             'perhaps': 389,\n",
       "             'template': 390,\n",
       "             'always': 391,\n",
       "             'reverted': 392,\n",
       "             'number': 393,\n",
       "             'quite': 394,\n",
       "             'clear': 395,\n",
       "             'instead': 396,\n",
       "             'message': 397,\n",
       "             'whether': 398,\n",
       "             'encyclopedia': 399,\n",
       "             'clearly': 400,\n",
       "             'until': 401,\n",
       "             'true': 402,\n",
       "             'evidence': 403,\n",
       "             'review': 404,\n",
       "             'account': 405,\n",
       "             'important': 406,\n",
       "             'man': 407,\n",
       "             'states': 408,\n",
       "             'mention': 409,\n",
       "             'written': 410,\n",
       "             'media': 411,\n",
       "             'die': 412,\n",
       "             'research': 413,\n",
       "             'makes': 414,\n",
       "             'further': 415,\n",
       "             '&': 416,\n",
       "             'users': 417,\n",
       "             'title': 418,\n",
       "             'claim': 419,\n",
       "             'times': 420,\n",
       "             'idea': 421,\n",
       "             'revert': 422,\n",
       "             'website': 423,\n",
       "             'based': 424,\n",
       "             'consider': 425,\n",
       "             'once': 426,\n",
       "             'getting': 427,\n",
       "             'words': 428,\n",
       "             'version': 429,\n",
       "             'pov': 430,\n",
       "             'contributions': 431,\n",
       "             'considered': 432,\n",
       "             'three': 433,\n",
       "             'current': 434,\n",
       "             'big': 435,\n",
       "             'oh': 436,\n",
       "             'year': 437,\n",
       "             'changes': 438,\n",
       "             '7': 439,\n",
       "             'means': 440,\n",
       "             'left': 441,\n",
       "             '..': 442,\n",
       "             'guidelines': 443,\n",
       "             'american': 444,\n",
       "             '\\n\\n \\n ': 445,\n",
       "             'several': 446,\n",
       "             'admin': 447,\n",
       "             'criteria': 448,\n",
       "             'start': 449,\n",
       "             'each': 450,\n",
       "             '\\xa0': 451,\n",
       "             'group': 452,\n",
       "             'bitch': 453,\n",
       "             'general': 454,\n",
       "             'second': 455,\n",
       "             'main': 456,\n",
       "             'listed': 457,\n",
       "             'm': 458,\n",
       "             'possible': 459,\n",
       "             'course': 460,\n",
       "             'date': 461,\n",
       "             'whole': 462,\n",
       "             'redirect': 463,\n",
       "             'mentioned': 464,\n",
       "             'seen': 465,\n",
       "             'topic': 466,\n",
       "             'include': 467,\n",
       "             'following': 468,\n",
       "             'address': 469,\n",
       "             'kind': 470,\n",
       "             'notice': 471,\n",
       "             'end': 472,\n",
       "             'care': 473,\n",
       "             'call': 474,\n",
       "             's': 475,\n",
       "             'regarding': 476,\n",
       "             'less': 477,\n",
       "             '|-': 478,\n",
       "             'statement': 479,\n",
       "             'sentence': 480,\n",
       "             '–': 481,\n",
       "             'issues': 482,\n",
       "             'ok': 483,\n",
       "             'known': 484,\n",
       "             'move': 485,\n",
       "             'suggest': 486,\n",
       "             'create': 487,\n",
       "             'sense': 488,\n",
       "             'related': 489,\n",
       "             'school': 490,\n",
       "             'rules': 491,\n",
       "             'including': 492,\n",
       "             'facts': 493,\n",
       "             '9': 494,\n",
       "             'color': 495,\n",
       "             'category': 496,\n",
       "             'appropriate': 497,\n",
       "             'happy': 498,\n",
       "             'hey': 499,\n",
       "             'changed': 500,\n",
       "             'love': 501,\n",
       "             '10': 502,\n",
       "             'project': 503,\n",
       "             'line': 504,\n",
       "             'picture': 505,\n",
       "             'mind': 506,\n",
       "             'days': 507,\n",
       "             'looking': 508,\n",
       "             'specific': 509,\n",
       "             'next': 510,\n",
       "             'provide': 511,\n",
       "             'per': 512,\n",
       "             'style': 513,\n",
       "             'included': 514,\n",
       "             'myself': 515,\n",
       "             'four': 516,\n",
       "             'although': 517,\n",
       "             'anyway': 518,\n",
       "             'file': 519,\n",
       "             'notability': 520,\n",
       "             'news': 521,\n",
       "             'away': 522,\n",
       "             'started': 523,\n",
       "             'lead': 524,\n",
       "             'full': 525,\n",
       "             'god': 526,\n",
       "             'info': 527,\n",
       "             'c': 528,\n",
       "             'attack': 529,\n",
       "             'relevant': 530,\n",
       "             'everyone': 531,\n",
       "             'summary': 532,\n",
       "             'later': 533,\n",
       "             'neutral': 534,\n",
       "             'dick': 535,\n",
       "             'penis': 536,\n",
       "             'pretty': 537,\n",
       "             'explain': 538,\n",
       "             'common': 539,\n",
       "             'looks': 540,\n",
       "             'country': 541,\n",
       "             'single': 542,\n",
       "             'sucks': 543,\n",
       "             'sign': 544,\n",
       "             'answer': 545,\n",
       "             'recent': 546,\n",
       "             'removing': 547,\n",
       "             'wo': 548,\n",
       "             'black': 549,\n",
       "             'especially': 550,\n",
       "             'order': 551,\n",
       "             'community': 552,\n",
       "             'currently': 553,\n",
       "             'claims': 554,\n",
       "             '8': 555,\n",
       "             'stuff': 556,\n",
       "             'during': 557,\n",
       "             '2005': 558,\n",
       "             'wrote': 559,\n",
       "             'itself': 560,\n",
       "             'names': 561,\n",
       "             'hard': 562,\n",
       "             'public': 563,\n",
       "             'writing': 564,\n",
       "             'interested': 565,\n",
       "             'taken': 566,\n",
       "             'wish': 567,\n",
       "             'within': 568,\n",
       "             'certainly': 569,\n",
       "             'interest': 570,\n",
       "             'appears': 571,\n",
       "             'able': 572,\n",
       "             'discuss': 573,\n",
       "             'official': 574,\n",
       "             'high': 575,\n",
       "             'hell': 576,\n",
       "             'game': 577,\n",
       "             'unless': 578,\n",
       "             'white': 579,\n",
       "             'self': 580,\n",
       "             'nice': 581,\n",
       "             'e': 582,\n",
       "             'today': 583,\n",
       "             'below': 584,\n",
       "             'completely': 585,\n",
       "             'de': 586,\n",
       "             'policies': 587,\n",
       "             'wanted': 588,\n",
       "             '“': 589,\n",
       "             'according': 590,\n",
       "             'position': 591,\n",
       "             'everything': 592,\n",
       "             'report': 593,\n",
       "             'anti': 594,\n",
       "             'sex': 595,\n",
       "             'remember': 596,\n",
       "             'reading': 597,\n",
       "             'faith': 598,\n",
       "             'came': 599,\n",
       "             '”': 600,\n",
       "             'quote': 601,\n",
       "             'live': 602,\n",
       "             'learn': 603,\n",
       "             'published': 604,\n",
       "             'guy': 605,\n",
       "             'due': 606,\n",
       "             'warning': 607,\n",
       "             'party': 608,\n",
       "             'web': 609,\n",
       "             'paragraph': 610,\n",
       "             'government': 611,\n",
       "             'entry': 612,\n",
       "             'future': 613,\n",
       "             'small': 614,\n",
       "             'talking': 615,\n",
       "             'process': 616,\n",
       "             'obviously': 617,\n",
       "             'therefore': 618,\n",
       "             'useful': 619,\n",
       "             'political': 620,\n",
       "             'whatever': 621,\n",
       "             'stay': 622,\n",
       "             'similar': 623,\n",
       "             'sandbox': 624,\n",
       "             'city': 625,\n",
       "             'large': 626,\n",
       "             'involved': 627,\n",
       "             'nor': 628,\n",
       "             'argument': 629,\n",
       "             'past': 630,\n",
       "             'working': 631,\n",
       "             'often': 632,\n",
       "             'system': 633,\n",
       "             'attacks': 634,\n",
       "             'exactly': 635,\n",
       "             'ago': 636,\n",
       "             'background': 637,\n",
       "             'asked': 638,\n",
       "             'nigger': 639,\n",
       "             'admins': 640,\n",
       "             'response': 641,\n",
       "             'particular': 642,\n",
       "             'british': 643,\n",
       "             'form': 644,\n",
       "             'edited': 645,\n",
       "             'align': 646,\n",
       "             'faggot': 647,\n",
       "             'almost': 648,\n",
       "             'regards': 649,\n",
       "             'reasons': 650,\n",
       "             'company': 651,\n",
       "             'guess': 652,\n",
       "             '~': 653,\n",
       "             'side': 654,\n",
       "             'truth': 655,\n",
       "             'law': 656,\n",
       "             'united': 657,\n",
       "             'film': 658,\n",
       "             'took': 659,\n",
       "             'become': 660,\n",
       "             'definition': 661,\n",
       "             'power': 662,\n",
       "             'noticed': 663,\n",
       "             'd': 664,\n",
       "             'needed': 665,\n",
       "             'major': 666,\n",
       "             'music': 667,\n",
       "             'fine': 668,\n",
       "             'terms': 669,\n",
       "             'search': 670,\n",
       "             'five': 671,\n",
       "             'placed': 672,\n",
       "             'books': 673,\n",
       "             'wikiproject': 674,\n",
       "             'posted': 675,\n",
       "             'vandalize': 676,\n",
       "             '2006': 677,\n",
       "             '12': 678,\n",
       "             'likely': 679,\n",
       "             'cunt': 680,\n",
       "             '11': 681,\n",
       "             'cheers': 682,\n",
       "             '’s': 683,\n",
       "             'short': 684,\n",
       "             'kill': 685,\n",
       "             'national': 686,\n",
       "             'along': 687,\n",
       "             'b': 688,\n",
       "             'appreciate': 689,\n",
       "             'problems': 690,\n",
       "             'npov': 691,\n",
       "             'saw': 692,\n",
       "             'otherwise': 693,\n",
       "             'false': 694,\n",
       "             'shows': 695,\n",
       "             'cited': 696,\n",
       "             'points': 697,\n",
       "             'area': 698,\n",
       "             'f': 699,\n",
       "             'google': 700,\n",
       "             'nonsense': 701,\n",
       "             'moved': 702,\n",
       "             'status': 703,\n",
       "             'generally': 704,\n",
       "             'present': 705,\n",
       "             'band': 706,\n",
       "             'taking': 707,\n",
       "             'dispute': 708,\n",
       "             'follow': 709,\n",
       "             'family': 710,\n",
       "             'stated': 711,\n",
       "             'tried': 712,\n",
       "             'fat': 713,\n",
       "             'set': 714,\n",
       "             'open': 715,\n",
       "             'certain': 716,\n",
       "             'jews': 717,\n",
       "             'sort': 718,\n",
       "             'death': 719,\n",
       "             'description': 720,\n",
       "             'o': 721,\n",
       "             'human': 722,\n",
       "             'recently': 723,\n",
       "             'deleting': 724,\n",
       "             'username': 725,\n",
       "             'indeed': 726,\n",
       "             'rule': 727,\n",
       "             'story': 728,\n",
       "             'entire': 729,\n",
       "             'en.wikipedia.org': 730,\n",
       "             'provided': 731,\n",
       "             'soon': 732,\n",
       "             'reverting': 733,\n",
       "             'hand': 734,\n",
       "             'type': 735,\n",
       "             'copy': 736,\n",
       "             'explanation': 737,\n",
       "             'context': 738,\n",
       "             'citation': 739,\n",
       "             'mother': 740,\n",
       "             'piece': 741,\n",
       "             'cock': 742,\n",
       "             'uploaded': 743,\n",
       "             'theory': 744,\n",
       "             'cite': 745,\n",
       "             'administrator': 746,\n",
       "             'actual': 747,\n",
       "             'interesting': 748,\n",
       "             'german': 749,\n",
       "             'week': 750,\n",
       "             'knowledge': 751,\n",
       "             '2007': 752,\n",
       "             'aware': 753,\n",
       "             'views': 754,\n",
       "             'reply': 755,\n",
       "             'simple': 756,\n",
       "             'university': 757,\n",
       "             'works': 758,\n",
       "             '2008': 759,\n",
       "             'appear': 760,\n",
       "             'improve': 761,\n",
       "             'obvious': 762,\n",
       "             'themselves': 763,\n",
       "             'john': 764,\n",
       "             'decide': 765,\n",
       "             'banned': 766,\n",
       "             'guys': 767,\n",
       "             'external': 768,\n",
       "             'standard': 769,\n",
       "             'alone': 770,\n",
       "             'yeah': 771,\n",
       "             'idiot': 772,\n",
       "             'thus': 773,\n",
       "             'tags': 774,\n",
       "             'proposed': 775,\n",
       "             'went': 776,\n",
       "             'seriously': 777,\n",
       "             'internet': 778,\n",
       "             'sourced': 779,\n",
       "             'told': 780,\n",
       "             'ones': 781,\n",
       "             'various': 782,\n",
       "             'citations': 783,\n",
       "             't': 784,\n",
       "             'comes': 785,\n",
       "             'middle': 786,\n",
       "             'third': 787,\n",
       "             'disagree': 788,\n",
       "             'author': 789,\n",
       "             'attention': 790,\n",
       "             'avoid': 791,\n",
       "             'result': 792,\n",
       "             'meaning': 793,\n",
       "             'vandal': 794,\n",
       "             'previous': 795,\n",
       "             'complete': 796,\n",
       "             'series': 797,\n",
       "             'members': 798,\n",
       "             'email': 799,\n",
       "             'goes': 800,\n",
       "             'longer': 801,\n",
       "             'happened': 802,\n",
       "             'job': 803,\n",
       "             'test': 804,\n",
       "             'head': 805,\n",
       "             'conflict': 806,\n",
       "             'science': 807,\n",
       "             'deal': 808,\n",
       "             'bullshit': 809,\n",
       "             'ban': 810,\n",
       "             'contact': 811,\n",
       "             'contributing': 812,\n",
       "             'solid': 813,\n",
       "             'addition': 814,\n",
       "             'heard': 815,\n",
       "             'sites': 816,\n",
       "             'proper': 817,\n",
       "             'living': 818,\n",
       "             'video': 819,\n",
       "             'allowed': 820,\n",
       "             '>': 821,\n",
       "             'necessary': 822,\n",
       "             'usually': 823,\n",
       "             'creating': 824,\n",
       "             'together': 825,\n",
       "             'jewish': 826,\n",
       "             'enjoy': 827,\n",
       "             'himself': 828,\n",
       "             'available': 829,\n",
       "             'calling': 830,\n",
       "             '||': 831,\n",
       "             'space': 832,\n",
       "             'helpful': 833,\n",
       "             'level': 834,\n",
       "             'exist': 835,\n",
       "             'sections': 836,\n",
       "             'rest': 837,\n",
       "             'afd': 838,\n",
       "             'contribs': 839,\n",
       "             'cause': 840,\n",
       "             'mr': 841,\n",
       "             '_': 842,\n",
       "             '0': 843,\n",
       "             'member': 844,\n",
       "             'opinions': 845,\n",
       "             '+': 846,\n",
       "             'act': 847,\n",
       "             'automatically': 848,\n",
       "             'x': 849,\n",
       "             'july': 850,\n",
       "             'respect': 851,\n",
       "             'fix': 852,\n",
       "             'multiple': 853,\n",
       "             'serious': 854,\n",
       "             'worked': 855,\n",
       "             '2009': 856,\n",
       "             'hours': 857,\n",
       "             'lol': 858,\n",
       "             'assume': 859,\n",
       "             'statements': 860,\n",
       "             'separate': 861,\n",
       "             'run': 862,\n",
       "             'bias': 863,\n",
       "             'close': 864,\n",
       "             'valid': 865,\n",
       "             'data': 866,\n",
       "             'personally': 867,\n",
       "             'details': 868,\n",
       "             'crap': 869,\n",
       "             'play': 870,\n",
       "             'debate': 871,\n",
       "             'accurate': 872,\n",
       "             'historical': 873,\n",
       "             'doubt': 874,\n",
       "             'couple': 875,\n",
       "             'record': 876,\n",
       "             'months': 877,\n",
       "             'accept': 878,\n",
       "             '2010': 879,\n",
       "             'refer': 880,\n",
       "             'manual': 881,\n",
       "             'face': 882,\n",
       "             'accepted': 883,\n",
       "             'attempt': 884,\n",
       "             'gets': 885,\n",
       "             'south': 886,\n",
       "             'women': 887,\n",
       "             'racist': 888,\n",
       "             'church': 889,\n",
       "             'born': 890,\n",
       "             'criticism': 891,\n",
       "             'early': 892,\n",
       "             'tildes': 893,\n",
       "             '20': 894,\n",
       "             'quality': 895,\n",
       "             'online': 896,\n",
       "             'actions': 897,\n",
       "             'biased': 898,\n",
       "             'action': 899,\n",
       "             'vote': 900,\n",
       "             'indicate': 901,\n",
       "             'song': 902,\n",
       "             'wikipedian': 903,\n",
       "             'rights': 904,\n",
       "             '15': 905,\n",
       "             'violation': 906,\n",
       "             'table': 907,\n",
       "             'damn': 908,\n",
       "             'primary': 909,\n",
       "             'legal': 910,\n",
       "             'tagged': 911,\n",
       "             'photo': 912,\n",
       "             'countries': 913,\n",
       "             '·': 914,\n",
       "             'lack': 915,\n",
       "             'uk': 916,\n",
       "             'upon': 917,\n",
       "             'changing': 918,\n",
       "             'sock': 919,\n",
       "             'none': 920,\n",
       "             'apparently': 921,\n",
       "             'proof': 922,\n",
       "             'difference': 923,\n",
       "             'period': 924,\n",
       "             'red': 925,\n",
       "             'dead': 926,\n",
       "             'balls': 927,\n",
       "             'uses': 928,\n",
       "             'team': 929,\n",
       "             'situation': 930,\n",
       "             'modern': 931,\n",
       "             'india': 932,\n",
       "             'rationale': 933,\n",
       "             'thinking': 934,\n",
       "             'except': 935,\n",
       "             'jew': 936,\n",
       "             'sometimes': 937,\n",
       "             'specifically': 938,\n",
       "             'explaining': 939,\n",
       "             'directly': 940,\n",
       "             'described': 941,\n",
       "             'cases': 942,\n",
       "             'box': 943,\n",
       "             '\\xa0 ': 944,\n",
       "             'bastard': 945,\n",
       "             'meant': 946,\n",
       "             'significant': 947,\n",
       "             \"''\": 948,\n",
       "             'march': 949,\n",
       "             'class': 950,\n",
       "             'men': 951,\n",
       "             'tk_wrep': 952,\n",
       "             'children': 953,\n",
       "             'release': 954,\n",
       "             'special': 955,\n",
       "             '24': 956,\n",
       "             'album': 957,\n",
       "             'incorrect': 958,\n",
       "             'culture': 959,\n",
       "             'among': 960,\n",
       "             'half': 961,\n",
       "             'supposed': 962,\n",
       "             'international': 963,\n",
       "             'inclusion': 964,\n",
       "             'asking': 965,\n",
       "             'military': 966,\n",
       "             'israel': 967,\n",
       "             'purpose': 968,\n",
       "             'speak': 969,\n",
       "             'civil': 970,\n",
       "             'prove': 971,\n",
       "             'unsigned': 972,\n",
       "             'outside': 973,\n",
       "             'worth': 974,\n",
       "             'infobox': 975,\n",
       "             'computer': 976,\n",
       "             'million': 977,\n",
       "             'friend': 978,\n",
       "             'house': 979,\n",
       "             'coming': 980,\n",
       "             'possibly': 981,\n",
       "             'america': 982,\n",
       "             'field': 983,\n",
       "             '2012': 984,\n",
       "             'august': 985,\n",
       "             'existing': 986,\n",
       "             'asshole': 987,\n",
       "             'character': 988,\n",
       "             'okay': 989,\n",
       "             '100': 990,\n",
       "             'control': 991,\n",
       "             'jesus': 992,\n",
       "             'christian': 993,\n",
       "             'business': 994,\n",
       "             'readers': 995,\n",
       "             'error': 996,\n",
       "             'w': 997,\n",
       "             '2011': 998,\n",
       "             'wait': 999,\n",
       "             ...})"
      ]
     },
     "execution_count": 24,
     "metadata": {},
     "output_type": "execute_result"
    }
   ],
   "source": [
    "stoi"
   ]
  },
  {
   "cell_type": "code",
   "execution_count": 25,
   "metadata": {},
   "outputs": [],
   "source": [
    "trn_lm = np.array([[stoi[o] for o in p] for p in tok_trn])#for every sentence p in tok_trn, for every word o in p return the stoi int for that word\n",
    "val_lm = np.array([[stoi[o] for o in p] for p in tok_val])"
   ]
  },
  {
   "cell_type": "code",
   "execution_count": 27,
   "metadata": {},
   "outputs": [],
   "source": [
    "np.save(PATH/'tmp'/'trn_ids.npy', trn_lm) #save the numericalized lists\n",
    "np.save(PATH/'tmp'/'val_ids.npy', val_lm)\n",
    "pickle.dump(itos, open(PATH/'tmp'/'itos.pkl', 'wb'))#need to save the vocab! Otherwise the numericalized lists mean nothing"
   ]
  },
  {
   "cell_type": "markdown",
   "metadata": {},
   "source": [
    "# Load in wikitext pretrained model"
   ]
  },
  {
   "cell_type": "code",
   "execution_count": 12,
   "metadata": {},
   "outputs": [
    {
     "data": {
      "text/plain": [
       "(60002, 281461)"
      ]
     },
     "execution_count": 12,
     "metadata": {},
     "output_type": "execute_result"
    }
   ],
   "source": [
    "trn_lm = np.load(PATH/'tmp'/'trn_ids.npy')\n",
    "val_lm = np.load(PATH/'tmp'/'val_ids.npy')\n",
    "itos = pickle.load(open(PATH/'tmp'/'itos.pkl', 'rb'))\n",
    "vs=len(itos)\n",
    "vs,len(trn_lm)"
   ]
  },
  {
   "cell_type": "code",
   "execution_count": 4,
   "metadata": {},
   "outputs": [],
   "source": [
    "WIKIPATH=Path('/home/paperspace/data/aclImdb/')\n",
    "PRE_PATH = WIKIPATH/'models'/'wt103'\n",
    "PRE_LM_PATH = PRE_PATH/'fwd_wt103.h5'"
   ]
  },
  {
   "cell_type": "code",
   "execution_count": 5,
   "metadata": {},
   "outputs": [],
   "source": [
    "em_sz=400"
   ]
  },
  {
   "cell_type": "code",
   "execution_count": 6,
   "metadata": {},
   "outputs": [],
   "source": [
    "#using pytorch’s load function. This basically returns a dictionary containing the name of the layer and a tensor of the accompanying weights\n",
    "wgts = torch.load(PRE_LM_PATH, map_location=lambda storage, loc: storage)"
   ]
  },
  {
   "cell_type": "code",
   "execution_count": 7,
   "metadata": {},
   "outputs": [],
   "source": [
    "enc_wgts = to_np(wgts['0.encoder.weight']) #this is wt103's embedding matrix! of size (238462, 400)\n",
    "row_m = enc_wgts.mean(0)#the average embedding"
   ]
  },
  {
   "cell_type": "code",
   "execution_count": 8,
   "metadata": {},
   "outputs": [],
   "source": [
    "itos2 = pickle.load((PRE_PATH/'itos_wt103.pkl').open('rb'))# we need to map our itos to wt103's itos! \n",
    "stoi2 = collections.defaultdict(lambda:-1, {v:k for k,v in enumerate(itos2)}) #default -1 means its not in wt103's itos"
   ]
  },
  {
   "cell_type": "code",
   "execution_count": 11,
   "metadata": {},
   "outputs": [
    {
     "name": "stdout",
     "output_type": "stream",
     "text": [
      "['_unk_', '_pad_', 'the', ',', '.', 'of', 'and', 'in', 'to', 'a']\n"
     ]
    }
   ],
   "source": [
    "print(itos2[:10])"
   ]
  },
  {
   "cell_type": "code",
   "execution_count": 14,
   "metadata": {},
   "outputs": [],
   "source": [
    "new_w = np.zeros((vs, em_sz), dtype=np.float32)#initialize new weights to zeros of size (vocab_size,embedding size) i.e. (60002,400)... we're creating an embedding matrix \n",
    "#for index,word in our itos dict, get r index of the word in wt103's dict. \n",
    "#r will be -1 if it doesn't exist in wt103's dict\n",
    "for i,w in enumerate(itos): \n",
    "    r = stoi2[w]\n",
    "#for our new embedding matrix, set the embedding at the index from our dict equal to \n",
    "#the embedding from index r from wt103's dict\n",
    "    new_w[i] = enc_wgts[r] if r>=0 else row_m "
   ]
  },
  {
   "cell_type": "code",
   "execution_count": 15,
   "metadata": {},
   "outputs": [
    {
     "name": "stdout",
     "output_type": "stream",
     "text": [
      "(60002, 400)\n"
     ]
    }
   ],
   "source": [
    "print(np.shape(new_w))"
   ]
  },
  {
   "cell_type": "code",
   "execution_count": 16,
   "metadata": {},
   "outputs": [],
   "source": [
    "pickle.dump(new_w, open(PATH/'tmp'/'new_w.pkl', 'wb'))#save the new weights"
   ]
  },
  {
   "cell_type": "markdown",
   "metadata": {},
   "source": [
    "# Language Model"
   ]
  },
  {
   "cell_type": "code",
   "execution_count": 4,
   "metadata": {},
   "outputs": [
    {
     "data": {
      "text/plain": [
       "(60002, 281461)"
      ]
     },
     "execution_count": 4,
     "metadata": {},
     "output_type": "execute_result"
    }
   ],
   "source": [
    "trn_lm = np.load(PATH/'tmp'/'trn_ids.npy')\n",
    "val_lm = np.load(PATH/'tmp'/'val_ids.npy')\n",
    "itos = pickle.load(open(PATH/'tmp'/'itos.pkl', 'rb'))\n",
    "new_w = pickle.load(open(PATH/'tmp'/'new_w.pkl', 'rb'))\n",
    "emb_sz=np.shape(new_w)[1]\n",
    "vs=len(itos)\n",
    "vs,len(trn_lm)"
   ]
  },
  {
   "cell_type": "code",
   "execution_count": 5,
   "metadata": {},
   "outputs": [],
   "source": [
    "bptt=70\n",
    "bs=50\n",
    "nh=100\n",
    "nl=3\n",
    "lr=1e-3"
   ]
  },
  {
   "cell_type": "code",
   "execution_count": 6,
   "metadata": {},
   "outputs": [
    {
     "name": "stdout",
     "output_type": "stream",
     "text": [
      "(281461,) (31274,)\n",
      "[12, 16, 17, 15, 1267, 39518, 40, 46, 1267, 39518]\n",
      "\n",
      " xbos xfld 1 david hillier \n",
      "\n",
      " was david hillier t_up really called up by fabio _unk_ to the england\n"
     ]
    }
   ],
   "source": [
    "print(np.shape(trn_lm),np.shape(val_lm))\n",
    "print(trn_lm[0][:10]) #trn_lm is a list of lists, each w/ the token #s for a given text\n",
    "print(' '.join([itos[trn_lm[0][i]] for i in range(20)]))"
   ]
  },
  {
   "cell_type": "code",
   "execution_count": 7,
   "metadata": {},
   "outputs": [
    {
     "name": "stdout",
     "output_type": "stream",
     "text": [
      "24165472\n"
     ]
    }
   ],
   "source": [
    "#Create trn_vec by concatenating together trn_lm, leaving a 24M long list of token #s. Same thing for val_vec (2.6M)\n",
    "trn_vec=np.concatenate(trn_lm)\n",
    "val_vec=np.concatenate(val_lm)\n",
    "(np.shape(trn_vec),np.shape(val_vec))\n",
    "nwords=len(trn_vec)\n",
    "val_nwords=len(val_vec)\n",
    "print(nwords)"
   ]
  },
  {
   "cell_type": "code",
   "execution_count": 8,
   "metadata": {},
   "outputs": [],
   "source": [
    "class rnnNet(nn.Module):\n",
    "    def __init__(self):\n",
    "        super(rnnNet, self).__init__()#the required Python super() function, which creates an instance of the base nn.Module class\n",
    "        self.embedding = nn.Embedding(vs, emb_sz) \n",
    "        self.rnn=nn.LSTM(emb_sz, nh, nl)\n",
    "        self.fc1 = nn.Linear(nh, vs)# \n",
    "        self.hidden=(self.one_hidden(), self.one_hidden())\n",
    "    def forward(self, x):\n",
    "        x=self.embedding(x)\n",
    "        outputta,new_h = self.rnn(x, self.hidden)\n",
    "        self.hidden = (Variable(new_h[0].data),Variable(new_h[1].data))#repackage!\n",
    "        x= self.fc1(outputta)\n",
    "        return F.log_softmax(x.view(-1,vs))\n",
    "    def one_hidden(self):\n",
    "        #SHOULD TRY INITIALIZING THIS TO SOMETHING MORE SENSIBLE THAN ZEROS\n",
    "        return Variable(torch.zeros(nl, bs, nh).cuda(), requires_grad=False)"
   ]
  },
  {
   "cell_type": "code",
   "execution_count": 9,
   "metadata": {},
   "outputs": [],
   "source": [
    "class dwb_model():\n",
    "    def __init__(self,trn_dl,val_dl,module,kwargs=None):\n",
    "        self.trn_dl, self.val_dl, self.module = trn_dl, val_dl, module\n",
    "        self.kwargs=kwargs\n",
    "        self.model=self.module().cuda()\n",
    "        self.oldfilename=''\n",
    "        self.howdwegethere='scratch'\n",
    "        self.filename=kwargs['filename']\n",
    "        self.PATH=kwargs['PATH']\n",
    "        self.optimizer = optim.Adam(self.model.parameters(), kwargs['lr'])\n",
    "        self.kwargs['optimizer_str']=str(self.optimizer)\n",
    "    def get_clr_schedule(self,downsampler,samp_n,min_lr=.001,max_lr=.05,epochs=2,clr_cycles=1,**kwargs):\n",
    "        total_its=math.ceil(samp_n*epochs/downsampler)+5\n",
    "        stepsize=total_its/clr_cycles/2\n",
    "        cyclelist=[]\n",
    "        xlist=[]\n",
    "        lrlist=[]\n",
    "        for itCounter in range(0,total_its):\n",
    "            cycle=np.floor(1+itCounter/(2*stepsize))\n",
    "            cyclelist.append(cycle)\n",
    "            x=np.abs(itCounter / stepsize - 2 * cycle + 1)\n",
    "            xlist.append(x)\n",
    "            lr=min_lr + (max_lr-min_lr)*np.maximum(0,(1-x))\n",
    "            lrlist.append(lr)\n",
    "        return lrlist\n",
    "    def model_fit(self,epochs=5,filename='',**kwargs):\n",
    "        clr_cycles=self.kwargs['clr_cycles']\n",
    "        curr_lr=self.kwargs['lr']\n",
    "        samp_n=self.kwargs['samp_n']\n",
    "        bs=self.kwargs['bs']\n",
    "        downsampler=samp_n/200\n",
    "        if clr_cycles>0:\n",
    "            self.clr_schedule=self.get_clr_schedule(downsampler,**self.kwargs)\n",
    "        self.howdwegethere=self.howdwegethere+' -> '+filename\n",
    "        self.generate_report(**self.kwargs)\n",
    "        run_report=self.modify_report(**self.kwargs)\n",
    "        starttime=time.time()\n",
    "        train_loss_list=[]\n",
    "        val_loss_list=[]\n",
    "        for epoch in range(0, epochs):\n",
    "            pbar=0#progressbar\n",
    "            for batch_idx, (data, target) in enumerate(trn_dl):\n",
    "                #data, target = data.cuda(), target.cuda()\n",
    "                data, target = Variable(data), Variable(target)\n",
    "                pbar+=len(data)*bs\n",
    "                if clr_cycles>0:\n",
    "                    self.overall_it=math.floor((pbar+epoch*samp_n)/downsampler)\n",
    "                    curr_lr=self.clr_schedule[self.overall_it]\n",
    "                    self.optimizer = optim.Adam(self.model.parameters(), curr_lr)\n",
    "                self.optimizer.zero_grad()\n",
    "                output = self.model(data)\n",
    "                loss = criterion(output, target)\n",
    "                loss.backward()\n",
    "                self.optimizer.step()#this actually updates the weights!\n",
    "                train_loss_list.append([epoch,pbar+epoch*samp_n,loss.data[0],curr_lr])\n",
    "                if batch_idx % 200 == 0:\n",
    "                    elapsed_time=time.time()-starttime\n",
    "                    train_update_format_string = 'Train Epoch: {}'\n",
    "                    train_update_format_string += '\\tTotal_its: {:.2f}M [{:.2f}M/{:.2f}M]'\n",
    "                    train_update_format_string += '\\tPercdone: {:.2f}'\n",
    "                    train_update_format_string += '\\tLoss: {:.4f}'\n",
    "                    train_update_format_string += '\\tTime: {:.2f}'\n",
    "                    train_update_format_string += '\\tLR: {:.4f}'\n",
    "                    train_update_string=train_update_format_string.format(\n",
    "                            epoch,\n",
    "                            (pbar + epoch * samp_n) / 1000000, pbar / 1000000, samp_n / 1000000,\n",
    "                            pbar / samp_n,\n",
    "                            loss.data[0],\n",
    "                            elapsed_time / 60,\n",
    "                            curr_lr)\n",
    "                    #train_update_string='Epoch: {}\\tTot_its: {:.2f}M [{:.2f}M/{:.2f}M]\\tPercdone: {:.2f}\\tLoss: {:.4f}\\tTime: {:.2f}\\tLR: {:.4f}'.format(\n",
    "                    #        epoch,(pbar+epoch*samp_n)/1000000, pbar/1000000, samp_n/1000000, pbar/samp_n,\n",
    "                    #                loss.data[0], elapsed_time/60, curr_lr)\n",
    "                    print(train_update_string)\n",
    "                    run_report.write(train_update_string+'\\n')\n",
    "            final_train_loss=loss.data[0]\n",
    "            val_loss=torch.Tensor().cuda()\n",
    "            val_acc=[]\n",
    "            for batch_idx, (data, target) in enumerate(val_dl):\n",
    "                data, target = Variable(data), Variable(target)\n",
    "                self.optimizer.zero_grad()\n",
    "                output = self.model(data)\n",
    "                loss = criterion(output, target)\n",
    "                preds = torch.max(output, dim=1)[1]\n",
    "                val_loss=torch.cat((val_loss,loss.data),0)\n",
    "                val_acc.append(torch.eq(preds.data,target.data).float().mean())\n",
    "            val_update_string='Validation Loss: {:.4f}\\tAcc: {:.4f}\\tPerp: {:.4f}'.format(\n",
    "                val_loss.mean(),np.mean(np.array(val_acc)),np.exp(val_loss.mean()))\n",
    "            print(val_update_string)\n",
    "            run_report.write(val_update_string+'\\n')\n",
    "            val_loss_list.append([epoch,val_loss.mean(),np.exp(val_loss.mean())])\n",
    "        self.val_loss_list=val_loss_list\n",
    "        self.train_loss_list=train_loss_list\n",
    "        self.final_val_loss=np.mean(np.array(val_acc))\n",
    "        print('The end! {:.2f} minutes'.format((time.time()-starttime)/60))\n",
    "        run_report.write('final_time: '+str((time.time()-starttime)/60)+'\\n')\n",
    "        run_report.write('final_train_loss: '+str(final_train_loss)+'\\n')\n",
    "        run_report.write('val_loss:\\n')\n",
    "        for line in val_loss_list:\n",
    "            run_report.write(str(line)+'\\n')\n",
    "        run_report.write('end_val_loss\\n')\n",
    "        run_report.close()\n",
    "    def lr_finder(self,start_lr=1e-5,end_lr=.15,**kwargs):\n",
    "        self.save('tmpbla',self.kwargs['PATH'])\n",
    "        starttime=time.time()\n",
    "        lr_finder_loss_list=[]\n",
    "        val_samp_n=self.kwargs['val_samp_n']\n",
    "        pbar=0#progressbar\n",
    "        for batch_idx, (data, target) in enumerate(val_dl):\n",
    "            pbar+=len(data)*bs\n",
    "            pdone=pbar/val_samp_n\n",
    "            batch_lr=start_lr+pdone*(end_lr-start_lr)\n",
    "            self.optimizer = optim.Adam(self.model.parameters(), batch_lr)\n",
    "            data, target = Variable(data), Variable(target)\n",
    "            self.optimizer.zero_grad()\n",
    "            output = self.model(data)\n",
    "            loss = criterion(output, target)\n",
    "            loss.backward()\n",
    "            self.optimizer.step()#this actually updates the weights!\n",
    "            lr_finder_loss_list.append([batch_lr,loss.data[0]])\n",
    "        #oldfilename=kwargs['filename']\n",
    "        self.load('tmpbla',self.kwargs['PATH'])\n",
    "        self.lr_finder_loss_list=lr_finder_loss_list\n",
    "        b_lr_list,losslist=zip(*lr_finder_loss_list)\n",
    "        plt.plot(b_lr_list,losslist)\n",
    "        plt.show()\n",
    "        imfname=str(PATH)+'/'+filename+'lrfinder.png'\n",
    "        plt.savefig(imfname)\n",
    "        print('The end! {:.2f} minutes'.format((time.time()-starttime)/60))\n",
    "    def generate_report(self,filename='',PATH='',**kwargs):\n",
    "        txtfname=filename+'.txt'\n",
    "        run_report=open(PATH/txtfname,'w')\n",
    "        run_report.write(self.howdwegethere+'\\n')\n",
    "        for key in self.kwargs.keys():\n",
    "            run_report.write(key+': '+str(self.kwargs[key])+'\\n')\n",
    "        run_report.write('requires_grad_list:\\n')\n",
    "        param_name_list=[i[0] for i in self.model.named_parameters()]\n",
    "        for i,j in enumerate(self.model.parameters()):\n",
    "            run_report.write(param_name_list[i]+': '+str(j.requires_grad)+'\\n')\n",
    "        run_report.write('end_requires_grad_list\\n')\n",
    "        run_report.close()\n",
    "    def modify_report(self,filename='',PATH='',**kwargs):\n",
    "        txtfname=filename+'.txt'\n",
    "        run_report=open(PATH/txtfname,'a')\n",
    "        return run_report\n",
    "    def show_report(self,filename=None,PATH=None,**kwargs):\n",
    "        txtfname=filename+'.txt'\n",
    "        run_report=open(PATH/txtfname,'r')\n",
    "        print(run_report.read())\n",
    "        run_report.close()\n",
    "    def gen_graph(self,filename='',PATH='',**kwargs):\n",
    "        eplist,itlist,losslist,lrlist=zip(*self.train_loss_list)\n",
    "        plt.plot(itlist,losslist)\n",
    "        plt.plot(itlist,lrlist)\n",
    "        plt.show()\n",
    "        imfname=str(PATH)+'/'+filename+'.png'\n",
    "        plt.savefig(imfname)\n",
    "    def save(self,filename=None,PATH=None,**kwargs):\n",
    "        torch.save(self.model.state_dict(), PATH/filename)\n",
    "    def load(self,filename=None,PATH=None,**kwargs):\n",
    "        self.model.load_state_dict(torch.load(PATH/str(filename), map_location=lambda storage, loc: storage))\n",
    "    def get_howdwegethere(self,oldfilename,filename='',PATH='',**kwargs):\n",
    "        self.oldfilename=oldfilename\n",
    "        txtfname=oldfilename+'.txt'\n",
    "        run_report=open(PATH/txtfname,'r')\n",
    "        howdwegethere=run_report.readlines()[0]\n",
    "        self.howdwegethere=howdwegethere[:-1]\n",
    "        run_report.close()"
   ]
  },
  {
   "cell_type": "code",
   "execution_count": 10,
   "metadata": {},
   "outputs": [],
   "source": [
    "def get_kwargs():\n",
    "    kwargs=dict((name,eval(name)) for name in ['samp_n','val_samp_n',\n",
    "        'lr','clr_cycles','min_lr','max_lr','epochs','bptt',\n",
    "        'bs','emb_sz','vs', 'nh', 'nl','PATH','filename'] )\n",
    "    kwargs['criterion_str']=str(criterion)\n",
    "    return kwargs"
   ]
  },
  {
   "cell_type": "code",
   "execution_count": 11,
   "metadata": {},
   "outputs": [],
   "source": [
    "samp_n=nwords #1000000 #nwords# 1000000#how many words to sample from training set. Set to nwords if want the whole thing\n",
    "val_samp_n=val_nwords # 500000 #val_nwords #how many words to sample from training set. Set to val_nwords if want the whole thing\n",
    "epochs=2\n",
    "clr_cycles=0#how many cyclical LR cycles? Set to 0 if not wanting to use CLR\n",
    "min_lr=0.0001#min LR for CLR; has no effect if clr_cycles==0\n",
    "max_lr=0.003#max LR for CLR; has no effect if clr_cycles==0\n",
    "filename='testingbla'\n",
    "criterion = nn.NLLLoss()\n",
    "trn_dl = LanguageModelLoader(np.array(trn_vec[:samp_n]), bs, bptt)\n",
    "val_dl = LanguageModelLoader(np.array(val_vec), bs, bptt)"
   ]
  },
  {
   "cell_type": "code",
   "execution_count": 12,
   "metadata": {},
   "outputs": [
    {
     "name": "stdout",
     "output_type": "stream",
     "text": [
      "{'samp_n': 24165472, 'val_samp_n': 2650861, 'lr': 0.001, 'clr_cycles': 0, 'min_lr': 0.0001, 'max_lr': 0.003, 'epochs': 2, 'bptt': 70, 'bs': 50, 'emb_sz': 400, 'vs': 60002, 'nh': 100, 'nl': 3, 'PATH': PosixPath('/home/paperspace/data/toxic_fromscratch'), 'filename': 'testingbla', 'criterion_str': 'NLLLoss(\\n)'}\n"
     ]
    }
   ],
   "source": [
    "#create kwargs\n",
    "kwargs=get_kwargs()\n",
    "print(kwargs)"
   ]
  },
  {
   "cell_type": "code",
   "execution_count": 13,
   "metadata": {},
   "outputs": [],
   "source": [
    "net2=dwb_model(trn_dl,val_dl,rnnNet,kwargs)"
   ]
  },
  {
   "cell_type": "code",
   "execution_count": 18,
   "metadata": {},
   "outputs": [],
   "source": [
    "#Load in the pretrained weights\n",
    "wgts=net2.model.state_dict()\n",
    "wgts['embedding.weight']=torch.Tensor(new_w).cuda()\n",
    "net2.model.load_state_dict(wgts)\n",
    "net2.save(filename='scratch',PATH=net2.kwargs['PATH'])"
   ]
  },
  {
   "cell_type": "code",
   "execution_count": 19,
   "metadata": {},
   "outputs": [],
   "source": [
    "#optimizer = optim.Adam(net2.model.parameters(), lr)\n",
    "#net2.kwargs['optimizer_str']=str(optimizer)"
   ]
  },
  {
   "cell_type": "code",
   "execution_count": 20,
   "metadata": {},
   "outputs": [],
   "source": [
    "net2.model.embedding.weight.requires_grad=False #set embedding to untrainable"
   ]
  },
  {
   "cell_type": "code",
   "execution_count": 21,
   "metadata": {},
   "outputs": [
    {
     "name": "stdout",
     "output_type": "stream",
     "text": [
      "Train Epoch: 0\tTotal_its: 0.00M [0.00M/24.17M]\tPercdone: 0.00\tLoss: 11.0003\tTime: 0.01\tLR: 0.0010\n",
      "Train Epoch: 0\tTotal_its: 0.68M [0.68M/24.17M]\tPercdone: 0.03\tLoss: 6.6073\tTime: 0.30\tLR: 0.0010\n",
      "Train Epoch: 0\tTotal_its: 1.34M [1.34M/24.17M]\tPercdone: 0.06\tLoss: 6.6707\tTime: 0.59\tLR: 0.0010\n"
     ]
    },
    {
     "ename": "KeyboardInterrupt",
     "evalue": "",
     "output_type": "error",
     "traceback": [
      "\u001b[0;31m---------------------------------------------------------------------------\u001b[0m",
      "\u001b[0;31mKeyboardInterrupt\u001b[0m                         Traceback (most recent call last)",
      "\u001b[0;32m<ipython-input-21-54c48d7aae8e>\u001b[0m in \u001b[0;36m<module>\u001b[0;34m()\u001b[0m\n\u001b[0;32m----> 1\u001b[0;31m \u001b[0mnet2\u001b[0m\u001b[0;34m.\u001b[0m\u001b[0mmodel_fit\u001b[0m\u001b[0;34m(\u001b[0m\u001b[0;34m**\u001b[0m\u001b[0mnet2\u001b[0m\u001b[0;34m.\u001b[0m\u001b[0mkwargs\u001b[0m\u001b[0;34m)\u001b[0m\u001b[0;34m\u001b[0m\u001b[0m\n\u001b[0m\u001b[1;32m      2\u001b[0m \u001b[0mnet2\u001b[0m\u001b[0;34m.\u001b[0m\u001b[0mshow_report\u001b[0m\u001b[0;34m(\u001b[0m\u001b[0;34m**\u001b[0m\u001b[0mnet2\u001b[0m\u001b[0;34m.\u001b[0m\u001b[0mkwargs\u001b[0m\u001b[0;34m)\u001b[0m\u001b[0;34m\u001b[0m\u001b[0m\n\u001b[1;32m      3\u001b[0m \u001b[0mnet2\u001b[0m\u001b[0;34m.\u001b[0m\u001b[0mgen_graph\u001b[0m\u001b[0;34m(\u001b[0m\u001b[0;34m**\u001b[0m\u001b[0mnet2\u001b[0m\u001b[0;34m.\u001b[0m\u001b[0mkwargs\u001b[0m\u001b[0;34m)\u001b[0m\u001b[0;34m\u001b[0m\u001b[0m\n\u001b[1;32m      4\u001b[0m \u001b[0mnet2\u001b[0m\u001b[0;34m.\u001b[0m\u001b[0msave\u001b[0m\u001b[0;34m(\u001b[0m\u001b[0;34m**\u001b[0m\u001b[0mnet2\u001b[0m\u001b[0;34m.\u001b[0m\u001b[0mkwargs\u001b[0m\u001b[0;34m)\u001b[0m\u001b[0;34m\u001b[0m\u001b[0m\n",
      "\u001b[0;32m<ipython-input-12-e44eac544e6e>\u001b[0m in \u001b[0;36mmodel_fit\u001b[0;34m(self, epochs, filename, **kwargs)\u001b[0m\n\u001b[1;32m     53\u001b[0m                 \u001b[0mloss\u001b[0m\u001b[0;34m.\u001b[0m\u001b[0mbackward\u001b[0m\u001b[0;34m(\u001b[0m\u001b[0;34m)\u001b[0m\u001b[0;34m\u001b[0m\u001b[0m\n\u001b[1;32m     54\u001b[0m                 \u001b[0mself\u001b[0m\u001b[0;34m.\u001b[0m\u001b[0moptimizer\u001b[0m\u001b[0;34m.\u001b[0m\u001b[0mstep\u001b[0m\u001b[0;34m(\u001b[0m\u001b[0;34m)\u001b[0m\u001b[0;31m#this actually updates the weights!\u001b[0m\u001b[0;34m\u001b[0m\u001b[0m\n\u001b[0;32m---> 55\u001b[0;31m                 \u001b[0mtrain_loss_list\u001b[0m\u001b[0;34m.\u001b[0m\u001b[0mappend\u001b[0m\u001b[0;34m(\u001b[0m\u001b[0;34m[\u001b[0m\u001b[0mepoch\u001b[0m\u001b[0;34m,\u001b[0m\u001b[0mpbar\u001b[0m\u001b[0;34m+\u001b[0m\u001b[0mepoch\u001b[0m\u001b[0;34m*\u001b[0m\u001b[0msamp_n\u001b[0m\u001b[0;34m,\u001b[0m\u001b[0mloss\u001b[0m\u001b[0;34m.\u001b[0m\u001b[0mdata\u001b[0m\u001b[0;34m[\u001b[0m\u001b[0;36m0\u001b[0m\u001b[0;34m]\u001b[0m\u001b[0;34m,\u001b[0m\u001b[0mcurr_lr\u001b[0m\u001b[0;34m]\u001b[0m\u001b[0;34m)\u001b[0m\u001b[0;34m\u001b[0m\u001b[0m\n\u001b[0m\u001b[1;32m     56\u001b[0m                 \u001b[0;32mif\u001b[0m \u001b[0mbatch_idx\u001b[0m \u001b[0;34m%\u001b[0m \u001b[0;36m200\u001b[0m \u001b[0;34m==\u001b[0m \u001b[0;36m0\u001b[0m\u001b[0;34m:\u001b[0m\u001b[0;34m\u001b[0m\u001b[0m\n\u001b[1;32m     57\u001b[0m                     \u001b[0melapsed_time\u001b[0m\u001b[0;34m=\u001b[0m\u001b[0mtime\u001b[0m\u001b[0;34m.\u001b[0m\u001b[0mtime\u001b[0m\u001b[0;34m(\u001b[0m\u001b[0;34m)\u001b[0m\u001b[0;34m-\u001b[0m\u001b[0mstarttime\u001b[0m\u001b[0;34m\u001b[0m\u001b[0m\n",
      "\u001b[0;31mKeyboardInterrupt\u001b[0m: "
     ]
    }
   ],
   "source": [
    "net2.model_fit(**net2.kwargs)\n",
    "net2.show_report(**net2.kwargs)\n",
    "net2.gen_graph(**net2.kwargs)\n",
    "net2.save(**net2.kwargs)"
   ]
  },
  {
   "cell_type": "code",
   "execution_count": 11,
   "metadata": {},
   "outputs": [],
   "source": [
    "samp_n=nwords #1000000 #nwords# 1000000#how many words to sample from training set. Set to nwords if want the whole thing\n",
    "val_samp_n=val_nwords # 500000 #val_nwords #how many words to sample from training set. Set to val_nwords if want the whole thing\n",
    "epochs=2\n",
    "clr_cycles=0#how many cyclical LR cycles? Set to 0 if not wanting to use CLR\n",
    "min_lr=0.001#min LR for CLR; has no effect if clr_cycles==0\n",
    "max_lr=0.002#max LR for CLR; has no effect if clr_cycles==0\n",
    "oldfilename='scratch'\n",
    "filename='testing_embunfr'\n",
    "criterion = nn.NLLLoss()\n",
    "trn_dl = LanguageModelLoader(np.array(trn_vec[:samp_n]), bs, bptt)\n",
    "val_dl = LanguageModelLoader(np.array(val_vec), bs, bptt)\n",
    "kwargs=get_kwargs()\n",
    "net2=dwb_model(trn_dl,val_dl,rnnNet,kwargs)\n",
    "net2.load(oldfilename,net2.kwargs['PATH'])\n",
    "#net2.get_howdwegethere(oldfilename,**net2.kwargs)\n",
    "net2.model.embedding.weight.requires_grad=True #set embedding to trainable"
   ]
  },
  {
   "cell_type": "code",
   "execution_count": 12,
   "metadata": {},
   "outputs": [
    {
     "name": "stdout",
     "output_type": "stream",
     "text": [
      "Epoch: 0\tTot_its: 0.00M [0.00M/24.17M]\tPercdone: 0.00\tLoss: 11.0048\tTime: 0.02\tLR: 0.0010\n",
      "Epoch: 0\tTot_its: 2.35M [2.35M/24.17M]\tPercdone: 0.10\tLoss: 6.5510\tTime: 1.09\tLR: 0.0010\n",
      "Epoch: 0\tTot_its: 4.68M [4.68M/24.17M]\tPercdone: 0.19\tLoss: 5.6124\tTime: 2.17\tLR: 0.0010\n",
      "Epoch: 0\tTot_its: 7.07M [7.07M/24.17M]\tPercdone: 0.29\tLoss: 5.5069\tTime: 3.27\tLR: 0.0010\n",
      "Epoch: 0\tTot_its: 9.45M [9.45M/24.17M]\tPercdone: 0.39\tLoss: 5.1314\tTime: 4.37\tLR: 0.0010\n",
      "Epoch: 0\tTot_its: 11.82M [11.82M/24.17M]\tPercdone: 0.49\tLoss: 4.9886\tTime: 5.47\tLR: 0.0010\n",
      "Epoch: 0\tTot_its: 14.20M [14.20M/24.17M]\tPercdone: 0.59\tLoss: 4.9786\tTime: 6.57\tLR: 0.0010\n",
      "Epoch: 0\tTot_its: 16.55M [16.55M/24.17M]\tPercdone: 0.68\tLoss: 4.8470\tTime: 7.65\tLR: 0.0010\n",
      "Epoch: 0\tTot_its: 18.95M [18.95M/24.17M]\tPercdone: 0.78\tLoss: 5.0436\tTime: 8.76\tLR: 0.0010\n",
      "Epoch: 0\tTot_its: 21.35M [21.35M/24.17M]\tPercdone: 0.88\tLoss: 4.4877\tTime: 9.86\tLR: 0.0010\n",
      "Validation Loss: 4.6993\tAcc: 0.2605\tPerp: 109.8750\n",
      "Epoch: 1\tTot_its: 24.17M [0.00M/24.17M]\tPercdone: 0.00\tLoss: 5.0612\tTime: 11.35\tLR: 0.0010\n",
      "Epoch: 1\tTot_its: 26.52M [2.35M/24.17M]\tPercdone: 0.10\tLoss: 4.4507\tTime: 12.43\tLR: 0.0010\n",
      "Epoch: 1\tTot_its: 28.88M [4.71M/24.17M]\tPercdone: 0.20\tLoss: 4.8481\tTime: 13.51\tLR: 0.0010\n",
      "Epoch: 1\tTot_its: 31.25M [7.09M/24.17M]\tPercdone: 0.29\tLoss: 4.7607\tTime: 14.61\tLR: 0.0010\n",
      "Epoch: 1\tTot_its: 33.60M [9.44M/24.17M]\tPercdone: 0.39\tLoss: 4.4216\tTime: 15.69\tLR: 0.0010\n",
      "Epoch: 1\tTot_its: 35.99M [11.83M/24.17M]\tPercdone: 0.49\tLoss: 4.7416\tTime: 16.79\tLR: 0.0010\n",
      "Epoch: 1\tTot_its: 38.38M [14.21M/24.17M]\tPercdone: 0.59\tLoss: 4.4667\tTime: 17.89\tLR: 0.0010\n",
      "Epoch: 1\tTot_its: 40.75M [16.59M/24.17M]\tPercdone: 0.69\tLoss: 4.5217\tTime: 18.98\tLR: 0.0010\n",
      "Epoch: 1\tTot_its: 43.12M [18.95M/24.17M]\tPercdone: 0.78\tLoss: 4.6645\tTime: 20.07\tLR: 0.0010\n",
      "Epoch: 1\tTot_its: 45.49M [21.32M/24.17M]\tPercdone: 0.88\tLoss: 4.2903\tTime: 21.16\tLR: 0.0010\n",
      "Validation Loss: 4.4883\tAcc: 0.2822\tPerp: 88.9714\n",
      "The end! 22.65 minutes\n",
      "scratch -> testing_embunfr\n",
      "samp_n: 24165472\n",
      "val_samp_n: 2650861\n",
      "lr: 0.001\n",
      "clr_cycles: 0\n",
      "min_lr: 0.001\n",
      "max_lr: 0.002\n",
      "epochs: 2\n",
      "bptt: 70\n",
      "bs: 50\n",
      "emb_sz: 400\n",
      "vs: 60002\n",
      "nh: 100\n",
      "nl: 3\n",
      "PATH: /home/paperspace/data/toxic_fromscratch\n",
      "filename: testing_embunfr\n",
      "criterion_str: NLLLoss(\n",
      ")\n",
      "optimizer_str: <torch.optim.adam.Adam object at 0x7fa820f03438>\n",
      "requires_grad_list:\n",
      "embedding.weight: True\n",
      "rnn.weight_ih_l0: True\n",
      "rnn.weight_hh_l0: True\n",
      "rnn.bias_ih_l0: True\n",
      "rnn.bias_hh_l0: True\n",
      "rnn.weight_ih_l1: True\n",
      "rnn.weight_hh_l1: True\n",
      "rnn.bias_ih_l1: True\n",
      "rnn.bias_hh_l1: True\n",
      "rnn.weight_ih_l2: True\n",
      "rnn.weight_hh_l2: True\n",
      "rnn.bias_ih_l2: True\n",
      "rnn.bias_hh_l2: True\n",
      "fc1.weight: True\n",
      "fc1.bias: True\n",
      "end_requires_grad_list\n",
      "Epoch: 0\tTot_its: 0.00M [0.00M/24.17M]\tPercdone: 0.00\tLoss: 11.0048\tTime: 0.02\tLR: 0.0010\n",
      "Epoch: 0\tTot_its: 2.35M [2.35M/24.17M]\tPercdone: 0.10\tLoss: 6.5510\tTime: 1.09\tLR: 0.0010\n",
      "Epoch: 0\tTot_its: 4.68M [4.68M/24.17M]\tPercdone: 0.19\tLoss: 5.6124\tTime: 2.17\tLR: 0.0010\n",
      "Epoch: 0\tTot_its: 7.07M [7.07M/24.17M]\tPercdone: 0.29\tLoss: 5.5069\tTime: 3.27\tLR: 0.0010\n",
      "Epoch: 0\tTot_its: 9.45M [9.45M/24.17M]\tPercdone: 0.39\tLoss: 5.1314\tTime: 4.37\tLR: 0.0010\n",
      "Epoch: 0\tTot_its: 11.82M [11.82M/24.17M]\tPercdone: 0.49\tLoss: 4.9886\tTime: 5.47\tLR: 0.0010\n",
      "Epoch: 0\tTot_its: 14.20M [14.20M/24.17M]\tPercdone: 0.59\tLoss: 4.9786\tTime: 6.57\tLR: 0.0010\n",
      "Epoch: 0\tTot_its: 16.55M [16.55M/24.17M]\tPercdone: 0.68\tLoss: 4.8470\tTime: 7.65\tLR: 0.0010\n",
      "Epoch: 0\tTot_its: 18.95M [18.95M/24.17M]\tPercdone: 0.78\tLoss: 5.0436\tTime: 8.76\tLR: 0.0010\n",
      "Epoch: 0\tTot_its: 21.35M [21.35M/24.17M]\tPercdone: 0.88\tLoss: 4.4877\tTime: 9.86\tLR: 0.0010\n",
      "Validation Loss: 4.6993\tAcc: 0.2605\tPerp: 109.8750\n",
      "Epoch: 1\tTot_its: 24.17M [0.00M/24.17M]\tPercdone: 0.00\tLoss: 5.0612\tTime: 11.35\tLR: 0.0010\n",
      "Epoch: 1\tTot_its: 26.52M [2.35M/24.17M]\tPercdone: 0.10\tLoss: 4.4507\tTime: 12.43\tLR: 0.0010\n",
      "Epoch: 1\tTot_its: 28.88M [4.71M/24.17M]\tPercdone: 0.20\tLoss: 4.8481\tTime: 13.51\tLR: 0.0010\n",
      "Epoch: 1\tTot_its: 31.25M [7.09M/24.17M]\tPercdone: 0.29\tLoss: 4.7607\tTime: 14.61\tLR: 0.0010\n",
      "Epoch: 1\tTot_its: 33.60M [9.44M/24.17M]\tPercdone: 0.39\tLoss: 4.4216\tTime: 15.69\tLR: 0.0010\n",
      "Epoch: 1\tTot_its: 35.99M [11.83M/24.17M]\tPercdone: 0.49\tLoss: 4.7416\tTime: 16.79\tLR: 0.0010\n",
      "Epoch: 1\tTot_its: 38.38M [14.21M/24.17M]\tPercdone: 0.59\tLoss: 4.4667\tTime: 17.89\tLR: 0.0010\n",
      "Epoch: 1\tTot_its: 40.75M [16.59M/24.17M]\tPercdone: 0.69\tLoss: 4.5217\tTime: 18.98\tLR: 0.0010\n",
      "Epoch: 1\tTot_its: 43.12M [18.95M/24.17M]\tPercdone: 0.78\tLoss: 4.6645\tTime: 20.07\tLR: 0.0010\n",
      "Epoch: 1\tTot_its: 45.49M [21.32M/24.17M]\tPercdone: 0.88\tLoss: 4.2903\tTime: 21.16\tLR: 0.0010\n",
      "Validation Loss: 4.4883\tAcc: 0.2822\tPerp: 88.9714\n",
      "final_time: 22.647941601276397\n",
      "final_train_loss: 4.539657115936279\n",
      "val_loss:\n",
      "[0, 4.699343204498291, 109.87498335316414]\n",
      "[1, 4.488315105438232, 88.97141207022865]\n",
      "end_val_loss\n",
      "\n"
     ]
    },
    {
     "data": {
      "image/png": "[encoded data removed]",
      "text/plain": [
       "<matplotlib.figure.Figure at 0x7fa8d0e3aef0>"
      ]
     },
     "metadata": {},
     "output_type": "display_data"
    },
    {
     "data": {
      "text/plain": [
       "<matplotlib.figure.Figure at 0x7fa8210cab38>"
      ]
     },
     "metadata": {},
     "output_type": "display_data"
    }
   ],
   "source": [
    "net2.model_fit(**net2.kwargs)\n",
    "net2.show_report(**net2.kwargs)\n",
    "net2.gen_graph(**net2.kwargs)\n",
    "net2.save(**net2.kwargs)"
   ]
  },
  {
   "cell_type": "code",
   "execution_count": 16,
   "metadata": {},
   "outputs": [
    {
     "name": "stdout",
     "output_type": "stream",
     "text": [
      "Train Epoch: 0\tTotal_its: 0.00M [0.00M/24.17M]\tPercdone: 0.00\tLoss: 5.0137\tTime: 0.01\n",
      "Train Epoch: 0\tTotal_its: 1.17M [1.17M/24.17M]\tPercdone: 0.05\tLoss: 4.6017\tTime: 0.56\n",
      "Train Epoch: 0\tTotal_its: 2.35M [2.35M/24.17M]\tPercdone: 0.10\tLoss: 4.5509\tTime: 1.12\n",
      "Train Epoch: 0\tTotal_its: 3.52M [3.52M/24.17M]\tPercdone: 0.15\tLoss: 4.6704\tTime: 1.67\n",
      "Train Epoch: 0\tTotal_its: 4.68M [4.68M/24.17M]\tPercdone: 0.19\tLoss: 4.5119\tTime: 2.22\n",
      "Train Epoch: 0\tTotal_its: 5.87M [5.87M/24.17M]\tPercdone: 0.24\tLoss: 4.6975\tTime: 2.79\n",
      "Train Epoch: 0\tTotal_its: 7.07M [7.07M/24.17M]\tPercdone: 0.29\tLoss: 4.8490\tTime: 3.36\n",
      "Train Epoch: 0\tTotal_its: 8.26M [8.26M/24.17M]\tPercdone: 0.34\tLoss: 4.3756\tTime: 3.92\n",
      "Train Epoch: 0\tTotal_its: 9.45M [9.45M/24.17M]\tPercdone: 0.39\tLoss: 4.3605\tTime: 4.49\n",
      "Train Epoch: 0\tTotal_its: 10.63M [10.63M/24.17M]\tPercdone: 0.44\tLoss: 4.5596\tTime: 5.06\n",
      "Train Epoch: 0\tTotal_its: 11.82M [11.82M/24.17M]\tPercdone: 0.49\tLoss: 4.4730\tTime: 5.62\n",
      "Train Epoch: 0\tTotal_its: 13.01M [13.01M/24.17M]\tPercdone: 0.54\tLoss: 4.3767\tTime: 6.19\n",
      "Train Epoch: 0\tTotal_its: 14.20M [14.20M/24.17M]\tPercdone: 0.59\tLoss: 4.5251\tTime: 6.76\n",
      "Train Epoch: 0\tTotal_its: 15.37M [15.37M/24.17M]\tPercdone: 0.64\tLoss: 4.6514\tTime: 7.32\n",
      "Train Epoch: 0\tTotal_its: 16.55M [16.55M/24.17M]\tPercdone: 0.68\tLoss: 4.4306\tTime: 7.88\n",
      "Train Epoch: 0\tTotal_its: 17.75M [17.75M/24.17M]\tPercdone: 0.73\tLoss: 4.4928\tTime: 8.45\n",
      "Train Epoch: 0\tTotal_its: 18.95M [18.95M/24.17M]\tPercdone: 0.78\tLoss: 4.7603\tTime: 9.02\n",
      "Train Epoch: 0\tTotal_its: 20.16M [20.16M/24.17M]\tPercdone: 0.83\tLoss: 4.6566\tTime: 9.59\n",
      "Train Epoch: 0\tTotal_its: 21.35M [21.35M/24.17M]\tPercdone: 0.88\tLoss: 4.1533\tTime: 10.15\n",
      "Train Epoch: 0\tTotal_its: 22.53M [22.53M/24.17M]\tPercdone: 0.93\tLoss: 4.1604\tTime: 10.71\n",
      "Validation Loss: 4.4375\tAcc: 0.2853\tPerp: 84.5613\n",
      "The end! 11.66 minutes\n",
      "scratch -> testing -> testing_unf\n",
      "samp_n: 24165472\n",
      "val_samp_n: 2650861\n",
      "lr: 0.001\n",
      "epochs: 1\n",
      "bptt: 70\n",
      "bs: 50\n",
      "emb_sz: 400\n",
      "vs: 60002\n",
      "nh: 100\n",
      "nl: 3\n",
      "PATH: /home/paperspace/data/toxic_fromscratch\n",
      "filename: testing_unf\n",
      "criterion_str: NLLLoss(\n",
      ")\n",
      "optimizer_str: <torch.optim.adam.Adam object at 0x7ffa6ca53b70>\n",
      "requires_grad_list:\n",
      "embedding.weight: True\n",
      "rnn.weight_ih_l0: True\n",
      "rnn.weight_hh_l0: True\n",
      "rnn.bias_ih_l0: True\n",
      "rnn.bias_hh_l0: True\n",
      "rnn.weight_ih_l1: True\n",
      "rnn.weight_hh_l1: True\n",
      "rnn.bias_ih_l1: True\n",
      "rnn.bias_hh_l1: True\n",
      "rnn.weight_ih_l2: True\n",
      "rnn.weight_hh_l2: True\n",
      "rnn.bias_ih_l2: True\n",
      "rnn.bias_hh_l2: True\n",
      "fc1.weight: True\n",
      "fc1.bias: True\n",
      "end_requires_grad_list\n",
      "Train Epoch: 0\tTotal_its: 0.00M [0.00M/24.17M]\tPercdone: 0.00\tLoss: 5.0137\tTime: 0.01\n",
      "Train Epoch: 0\tTotal_its: 1.17M [1.17M/24.17M]\tPercdone: 0.05\tLoss: 4.6017\tTime: 0.56\n",
      "Train Epoch: 0\tTotal_its: 2.35M [2.35M/24.17M]\tPercdone: 0.10\tLoss: 4.5509\tTime: 1.12\n",
      "Train Epoch: 0\tTotal_its: 3.52M [3.52M/24.17M]\tPercdone: 0.15\tLoss: 4.6704\tTime: 1.67\n",
      "Train Epoch: 0\tTotal_its: 4.68M [4.68M/24.17M]\tPercdone: 0.19\tLoss: 4.5119\tTime: 2.22\n",
      "Train Epoch: 0\tTotal_its: 5.87M [5.87M/24.17M]\tPercdone: 0.24\tLoss: 4.6975\tTime: 2.79\n",
      "Train Epoch: 0\tTotal_its: 7.07M [7.07M/24.17M]\tPercdone: 0.29\tLoss: 4.8490\tTime: 3.36\n",
      "Train Epoch: 0\tTotal_its: 8.26M [8.26M/24.17M]\tPercdone: 0.34\tLoss: 4.3756\tTime: 3.92\n",
      "Train Epoch: 0\tTotal_its: 9.45M [9.45M/24.17M]\tPercdone: 0.39\tLoss: 4.3605\tTime: 4.49\n",
      "Train Epoch: 0\tTotal_its: 10.63M [10.63M/24.17M]\tPercdone: 0.44\tLoss: 4.5596\tTime: 5.06\n",
      "Train Epoch: 0\tTotal_its: 11.82M [11.82M/24.17M]\tPercdone: 0.49\tLoss: 4.4730\tTime: 5.62\n",
      "Train Epoch: 0\tTotal_its: 13.01M [13.01M/24.17M]\tPercdone: 0.54\tLoss: 4.3767\tTime: 6.19\n",
      "Train Epoch: 0\tTotal_its: 14.20M [14.20M/24.17M]\tPercdone: 0.59\tLoss: 4.5251\tTime: 6.76\n",
      "Train Epoch: 0\tTotal_its: 15.37M [15.37M/24.17M]\tPercdone: 0.64\tLoss: 4.6514\tTime: 7.32\n",
      "Train Epoch: 0\tTotal_its: 16.55M [16.55M/24.17M]\tPercdone: 0.68\tLoss: 4.4306\tTime: 7.88\n",
      "Train Epoch: 0\tTotal_its: 17.75M [17.75M/24.17M]\tPercdone: 0.73\tLoss: 4.4928\tTime: 8.45\n",
      "Train Epoch: 0\tTotal_its: 18.95M [18.95M/24.17M]\tPercdone: 0.78\tLoss: 4.7603\tTime: 9.02\n",
      "Train Epoch: 0\tTotal_its: 20.16M [20.16M/24.17M]\tPercdone: 0.83\tLoss: 4.6566\tTime: 9.59\n",
      "Train Epoch: 0\tTotal_its: 21.35M [21.35M/24.17M]\tPercdone: 0.88\tLoss: 4.1533\tTime: 10.15\n",
      "Train Epoch: 0\tTotal_its: 22.53M [22.53M/24.17M]\tPercdone: 0.93\tLoss: 4.1604\tTime: 10.71\n",
      "Validation Loss: 4.4375\tAcc: 0.2853\tPerp: 84.5613\n",
      "final_time: 11.659273107846579\n",
      "final_train_loss: 4.384071350097656\n",
      "val_loss:\n",
      "[0, 4.43747615814209, 84.56125289929572]\n",
      "end_val_loss\n",
      "\n"
     ]
    },
    {
     "data": {
      "image/png": "[encoded data removed]",
      "text/plain": [
       "<matplotlib.figure.Figure at 0x7ffa6ca565f8>"
      ]
     },
     "metadata": {},
     "output_type": "display_data"
    },
    {
     "data": {
      "text/plain": [
       "<matplotlib.figure.Figure at 0x7ffaed56d470>"
      ]
     },
     "metadata": {},
     "output_type": "display_data"
    }
   ],
   "source": [
    "net2.model_fit(**net2.kwargs)\n",
    "net2.show_report(**net2.kwargs)\n",
    "net2.gen_graph(**net2.kwargs)\n",
    "net2.save(**net2.kwargs)"
   ]
  },
  {
   "cell_type": "code",
   "execution_count": 37,
   "metadata": {},
   "outputs": [
    {
     "data": {
      "image/png": "[encoded data removed]",
      "text/plain": [
       "<matplotlib.figure.Figure at 0x7f1fb57c0b38>"
      ]
     },
     "metadata": {},
     "output_type": "display_data"
    },
    {
     "name": "stdout",
     "output_type": "stream",
     "text": [
      "The end! 1.23 minutes\n"
     ]
    },
    {
     "data": {
      "text/plain": [
       "<matplotlib.figure.Figure at 0x7f1fb57cc0f0>"
      ]
     },
     "metadata": {},
     "output_type": "display_data"
    }
   ],
   "source": [
    "#scratch\n",
    "net2.lr_finder(start_lr=1e-5,end_lr=.05)"
   ]
  },
  {
   "cell_type": "code",
   "execution_count": 15,
   "metadata": {},
   "outputs": [],
   "source": [
    "net2.load('testing_unf',net2.kwargs['PATH'])"
   ]
  },
  {
   "cell_type": "code",
   "execution_count": null,
   "metadata": {},
   "outputs": [],
   "source": [
    "net2.load('testing',net2.kwargs['PATH'])\n",
    "net2.lr_finder(start_lr=.00001,end_lr=.002)"
   ]
  },
  {
   "cell_type": "code",
   "execution_count": 79,
   "metadata": {},
   "outputs": [
    {
     "data": {
      "image/png": "[encoded data removed]",
      "text/plain": [
       "<matplotlib.figure.Figure at 0x7fec47dba080>"
      ]
     },
     "metadata": {},
     "output_type": "display_data"
    },
    {
     "data": {
      "image/png": "[encoded data removed]",
      "text/plain": [
       "<matplotlib.figure.Figure at 0x7fecc8aba4a8>"
      ]
     },
     "metadata": {},
     "output_type": "display_data"
    },
    {
     "name": "stdout",
     "output_type": "stream",
     "text": [
      "0.0018018527225682525 0.9739291087348602\n"
     ]
    }
   ],
   "source": [
    "lr_finder_loss_list=net2.lr_finder_loss_list\n",
    "b_lr_list,losslist=zip(*lr_finder_loss_list)\n",
    "plt.plot(b_lr_list)\n",
    "plt.show()\n",
    "plt.plot(losslist)\n",
    "plt.show()\n",
    "print(min(b_lr_list),max(b_lr_list))"
   ]
  },
  {
   "cell_type": "code",
   "execution_count": null,
   "metadata": {},
   "outputs": [],
   "source": []
  },
  {
   "cell_type": "code",
   "execution_count": 43,
   "metadata": {},
   "outputs": [
    {
     "data": {
      "text/plain": [
       "'scratch -> tes -> test2'"
      ]
     },
     "execution_count": 43,
     "metadata": {},
     "output_type": "execute_result"
    }
   ],
   "source": [
    "net2.howdwegethere"
   ]
  },
  {
   "cell_type": "code",
   "execution_count": 14,
   "metadata": {},
   "outputs": [
    {
     "name": "stdout",
     "output_type": "stream",
     "text": [
      "Train Epoch: 1 [0.00M/24.17M]\tPercdone: 0.00\tLoss: 4.9046\tTime: 0.00\n",
      "Train Epoch: 1 [2.35M/24.17M]\tPercdone: 0.10\tLoss: 4.1845\tTime: 1.01\n",
      "Train Epoch: 1 [4.71M/24.17M]\tPercdone: 0.20\tLoss: 4.6796\tTime: 2.02\n",
      "Train Epoch: 1 [7.09M/24.17M]\tPercdone: 0.29\tLoss: 4.6089\tTime: 3.04\n",
      "Train Epoch: 1 [9.44M/24.17M]\tPercdone: 0.39\tLoss: 4.2952\tTime: 4.05\n",
      "Train Epoch: 1 [11.83M/24.17M]\tPercdone: 0.49\tLoss: 4.6392\tTime: 5.08\n",
      "Train Epoch: 1 [14.21M/24.17M]\tPercdone: 0.59\tLoss: 4.3743\tTime: 6.11\n",
      "Train Epoch: 1 [16.59M/24.17M]\tPercdone: 0.69\tLoss: 4.4841\tTime: 7.13\n",
      "Train Epoch: 1 [18.95M/24.17M]\tPercdone: 0.78\tLoss: 4.6725\tTime: 8.15\n",
      "Train Epoch: 1 [21.32M/24.17M]\tPercdone: 0.88\tLoss: 4.2527\tTime: 9.18\n",
      "Validation Loss: 4.4825\tAcc: 0.2844\tPerp: 88.4537\n",
      "The end! 10.62 minutes\n"
     ]
    }
   ],
   "source": [
    "\n",
    "\n",
    "epochs=2\n",
    "starttime=time.time()\n",
    "train_loss_list=[]\n",
    "for epoch in range(1, epochs):\n",
    "    pbar=0#progressbar\n",
    "    for batch_idx, (data, target) in enumerate(trn_dl):\n",
    "        #data, target = data.cuda(), target.cuda()\n",
    "        data, target = Variable(data), Variable(target)\n",
    "        optimizer.zero_grad()\n",
    "        output = net(data)\n",
    "        loss = criterion(output, target)\n",
    "        loss.backward()\n",
    "        optimizer.step()#this actually updates the weights!\n",
    "        pbar+=len(data)*bs\n",
    "        train_loss_list.append([epoch,pbar,loss.data[0]])\n",
    "        if batch_idx % 700 == 0:\n",
    "            elapsed_time=time.time()-starttime\n",
    "            print('Train Epoch: {} [{:.2f}M/{:.2f}M]\\tPercdone: {:.2f}\\tLoss: {:.4f}\\tTime: {:.2f}'.format(\n",
    "                    epoch, pbar/1000000, samp_n/1000000, pbar/samp_n,\n",
    "                            loss.data[0], elapsed_time/60))\n",
    "    val_loss=torch.Tensor().cuda()\n",
    "    val_acc=[]\n",
    "    for batch_idx, (data, target) in enumerate(val_dl):\n",
    "        data, target = Variable(data), Variable(target)\n",
    "        optimizer.zero_grad()\n",
    "        output = net(data)\n",
    "        loss = criterion(output, target)\n",
    "        preds = torch.max(output, dim=1)[1]\n",
    "        val_loss=torch.cat((val_loss,loss.data),0)\n",
    "        val_acc.append(torch.eq(preds.data,target.data).float().mean())\n",
    "    print('Validation Loss: {:.4f}\\tAcc: {:.4f}\\tPerp: {:.4f}'.format(\n",
    "        val_loss.mean(),np.mean(np.array(val_acc)),np.exp(val_loss.mean())))\n",
    "print('The end! {:.2f} minutes'.format((time.time()-starttime)/60))\n"
   ]
  },
  {
   "cell_type": "code",
   "execution_count": 20,
   "metadata": {},
   "outputs": [],
   "source": [
    "filename='3cyc_emb-frz_adam1e3_loss4p5_XXXX'"
   ]
  },
  {
   "cell_type": "code",
   "execution_count": 13,
   "metadata": {},
   "outputs": [],
   "source": [
    "torch.save(net.state_dict(), PATH/'3cyc_emb-frz_adam1e3_loss4p5')"
   ]
  },
  {
   "cell_type": "code",
   "execution_count": 14,
   "metadata": {},
   "outputs": [
    {
     "ename": "AttributeError",
     "evalue": "'dwb_model' object has no attribute 'load_state_dict'",
     "output_type": "error",
     "traceback": [
      "\u001b[0;31m---------------------------------------------------------------------------\u001b[0m",
      "\u001b[0;31mAttributeError\u001b[0m                            Traceback (most recent call last)",
      "\u001b[0;32m<ipython-input-14-e4ebb6cc0037>\u001b[0m in \u001b[0;36m<module>\u001b[0;34m()\u001b[0m\n\u001b[0;32m----> 1\u001b[0;31m \u001b[0mnet2\u001b[0m\u001b[0;34m.\u001b[0m\u001b[0mload_state_dict\u001b[0m\u001b[0;34m(\u001b[0m\u001b[0mtorch\u001b[0m\u001b[0;34m.\u001b[0m\u001b[0mload\u001b[0m\u001b[0;34m(\u001b[0m\u001b[0mPATH\u001b[0m\u001b[0;34m/\u001b[0m\u001b[0;34m'2cyc_emb-frz_adam1e3'\u001b[0m\u001b[0;34m,\u001b[0m \u001b[0mmap_location\u001b[0m\u001b[0;34m=\u001b[0m\u001b[0;32mlambda\u001b[0m \u001b[0mstorage\u001b[0m\u001b[0;34m,\u001b[0m \u001b[0mloc\u001b[0m\u001b[0;34m:\u001b[0m \u001b[0mstorage\u001b[0m\u001b[0;34m)\u001b[0m\u001b[0;34m)\u001b[0m\u001b[0;34m\u001b[0m\u001b[0m\n\u001b[0m",
      "\u001b[0;31mAttributeError\u001b[0m: 'dwb_model' object has no attribute 'load_state_dict'"
     ]
    }
   ],
   "source": [
    "net.load_state_dict(torch.load(PATH/'2cyc_emb-frz_adam1e3', map_location=lambda storage, loc: storage))"
   ]
  },
  {
   "cell_type": "code",
   "execution_count": 16,
   "metadata": {},
   "outputs": [],
   "source": [
    "#load dictionary\n",
    "itos = pickle.load(open(PATH/'tmp'/'itos.pkl', 'rb'))\n",
    "stoi = collections.defaultdict(lambda:0, {v:k for k,v in enumerate(itos)})"
   ]
  },
  {
   "cell_type": "code",
   "execution_count": 29,
   "metadata": {},
   "outputs": [
    {
     "name": "stdout",
     "output_type": "stream",
     "text": [
      "what i think\n",
      "what i think that you can be blocked for your time , i 'll be a good place , as you are trying\n"
     ]
    }
   ],
   "source": [
    "# generate some new text from the LM, to see how good it is\n",
    "orig_bs=bs#save original bs, because we're changing it to 1 momentarily. We'll change it back once we're done here\n",
    "net2.kwargs['bs']=1\n",
    "#net2.hidden=(net2.one_hidden(), net2.one_hidden()) # reset model hidden state\n",
    "net2.model.hidden=(net2.model.one_hidden(), net2.model.one_hidden()) # reset model hidden state\n",
    "ss=\"\"\"what i think \"\"\"\n",
    "tok = Tokenizer().spacy_tok(ss)#create a list of the tokens\n",
    "print(' '.join(tok))\n",
    "t=[stoi[tok[i]] for i in range(len(tok))]\n",
    "t=Variable(torch.LongTensor(t).cuda()).view(-1,1)\n",
    "#print(t)\n",
    "for i in range(20):\n",
    "    pred=net2.model(t)\n",
    "    next_one=torch.topk(pred[-1],5)[1][np.random.randint(0,4)]\n",
    "    t=Variable(torch.cat((t.data,next_one.data),0))\n",
    "#print(t)\n",
    "tnump=np.concatenate(t.data.cpu().numpy())\n",
    "print(' '.join([itos[tnump[i]] for i in range(len(tnump))]))\n",
    "net2.kwargs['bs']=orig_bs"
   ]
  },
  {
   "cell_type": "code",
   "execution_count": 30,
   "metadata": {},
   "outputs": [
    {
     "name": "stdout",
     "output_type": "stream",
     "text": [
      "[ 61   8  90  18  13  57  30 216  23  41 112   4   8 188  30  11 127 230   4  33  13  34 294]\n"
     ]
    },
    {
     "data": {
      "text/plain": [
       "\"what i think that you can be blocked for your time , i 'll be a good place , as you are trying\""
      ]
     },
     "execution_count": 30,
     "metadata": {},
     "output_type": "execute_result"
    }
   ],
   "source": [
    "print(tnump)\n",
    "#[itos[t.data[i].cpu().numpy()[0]] for i in range]\n",
    "' '.join([itos[tnump[i]] for i in range(len(tnump))])"
   ]
  },
  {
   "cell_type": "code",
   "execution_count": 57,
   "metadata": {},
   "outputs": [
    {
     "data": {
      "text/plain": [
       "0"
      ]
     },
     "execution_count": 57,
     "metadata": {},
     "output_type": "execute_result"
    }
   ],
   "source": []
  },
  {
   "cell_type": "code",
   "execution_count": null,
   "metadata": {},
   "outputs": [],
   "source": []
  }
 ],
 "metadata": {
  "kernelspec": {
   "display_name": "Python 3",
   "language": "python",
   "name": "python3"
  },
  "language_info": {
   "codemirror_mode": {
    "name": "ipython",
    "version": 3
   },
   "file_extension": ".py",
   "mimetype": "text/x-python",
   "name": "python",
   "nbconvert_exporter": "python",
   "pygments_lexer": "ipython3",
   "version": "3.6.4"
  }
 },
 "nbformat": 4,
 "nbformat_minor": 2
}
